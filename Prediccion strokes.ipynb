{
 "cells": [
  {
   "cell_type": "markdown",
   "id": "e0dd6ebf",
   "metadata": {},
   "source": [
    "# Proyecto accidentes cerebrovasculares \n",
    "## Modelos lineales generalizados\n",
    "### Autores:*Sebastian Caamaño*, *Cristobal Collao*, *América Suárez*\n",
    "#### 15 noviembre 2021"
   ]
  },
  {
   "cell_type": "code",
   "execution_count": 1,
   "id": "f0ba3a33",
   "metadata": {},
   "outputs": [
    {
     "name": "stderr",
     "output_type": "stream",
     "text": [
      "Registered S3 method overwritten by 'rvest':\n",
      "  method            from\n",
      "  read_xml.response xml2\n",
      "\n",
      "-- \u001b[1mAttaching packages\u001b[22m --------------------------------------- tidyverse 1.2.1 --\n",
      "\n",
      "\u001b[32mv\u001b[39m \u001b[34mggplot2\u001b[39m 3.3.5     \u001b[32mv\u001b[39m \u001b[34mpurrr  \u001b[39m 0.3.4\n",
      "\u001b[32mv\u001b[39m \u001b[34mtibble \u001b[39m 3.1.1     \u001b[32mv\u001b[39m \u001b[34mdplyr  \u001b[39m 1.0.6\n",
      "\u001b[32mv\u001b[39m \u001b[34mtidyr  \u001b[39m 1.1.3     \u001b[32mv\u001b[39m \u001b[34mstringr\u001b[39m 1.4.0\n",
      "\u001b[32mv\u001b[39m \u001b[34mreadr  \u001b[39m 1.4.0     \u001b[32mv\u001b[39m \u001b[34mforcats\u001b[39m 0.5.1\n",
      "\n",
      "Warning message:\n",
      "\"package 'tibble' was built under R version 3.6.3\"\n",
      "Warning message:\n",
      "\"package 'tidyr' was built under R version 3.6.3\"\n",
      "Warning message:\n",
      "\"package 'readr' was built under R version 3.6.3\"\n",
      "Warning message:\n",
      "\"package 'purrr' was built under R version 3.6.3\"\n",
      "Warning message:\n",
      "\"package 'dplyr' was built under R version 3.6.3\"\n",
      "Warning message:\n",
      "\"package 'forcats' was built under R version 3.6.3\"\n",
      "-- \u001b[1mConflicts\u001b[22m ------------------------------------------ tidyverse_conflicts() --\n",
      "\u001b[31mx\u001b[39m \u001b[34mdplyr\u001b[39m::\u001b[32mfilter()\u001b[39m masks \u001b[34mstats\u001b[39m::filter()\n",
      "\u001b[31mx\u001b[39m \u001b[34mdplyr\u001b[39m::\u001b[32mlag()\u001b[39m    masks \u001b[34mstats\u001b[39m::lag()\n",
      "\n",
      "\n",
      "Attaching package: 'psych'\n",
      "\n",
      "\n",
      "The following objects are masked from 'package:ggplot2':\n",
      "\n",
      "    %+%, alpha\n",
      "\n",
      "\n",
      "Warning message:\n",
      "\"package 'gridExtra' was built under R version 3.6.3\"\n",
      "\n",
      "Attaching package: 'gridExtra'\n",
      "\n",
      "\n",
      "The following object is masked from 'package:dplyr':\n",
      "\n",
      "    combine\n",
      "\n",
      "\n",
      "Warning message:\n",
      "\"package 'GGally' was built under R version 3.6.3\"\n",
      "Registered S3 method overwritten by 'GGally':\n",
      "  method from   \n",
      "  +.gg   ggplot2\n",
      "\n",
      "Warning message:\n",
      "\"package 'readxl' was built under R version 3.6.3\"\n",
      "Warning message:\n",
      "\"package 'Hmisc' was built under R version 3.6.3\"\n",
      "Loading required package: lattice\n",
      "\n",
      "Loading required package: survival\n",
      "\n",
      "Warning message:\n",
      "\"package 'survival' was built under R version 3.6.3\"\n",
      "Loading required package: Formula\n",
      "\n",
      "Warning message:\n",
      "\"package 'Formula' was built under R version 3.6.3\"\n",
      "\n",
      "Attaching package: 'Hmisc'\n",
      "\n",
      "\n",
      "The following object is masked from 'package:psych':\n",
      "\n",
      "    describe\n",
      "\n",
      "\n",
      "The following objects are masked from 'package:dplyr':\n",
      "\n",
      "    src, summarize\n",
      "\n",
      "\n",
      "The following objects are masked from 'package:base':\n",
      "\n",
      "    format.pval, units\n",
      "\n",
      "\n",
      "\n",
      "Attaching package: 'boot'\n",
      "\n",
      "\n",
      "The following object is masked from 'package:survival':\n",
      "\n",
      "    aml\n",
      "\n",
      "\n",
      "The following object is masked from 'package:lattice':\n",
      "\n",
      "    melanoma\n",
      "\n",
      "\n",
      "The following object is masked from 'package:psych':\n",
      "\n",
      "    logit\n",
      "\n",
      "\n",
      "Warning message:\n",
      "\"package 'pscl' was built under R version 3.6.3\"\n",
      "Classes and Methods for R developed in the\n",
      "Political Science Computational Laboratory\n",
      "Department of Political Science\n",
      "Stanford University\n",
      "Simon Jackman\n",
      "hurdle and zeroinfl functions by Achim Zeileis\n",
      "\n",
      "\n",
      "Attaching package: 'MASS'\n",
      "\n",
      "\n",
      "The following object is masked from 'package:dplyr':\n",
      "\n",
      "    select\n",
      "\n",
      "\n",
      "Warning message:\n",
      "\"package 'effects' was built under R version 3.6.3\"\n",
      "Loading required package: carData\n",
      "\n",
      "Warning message:\n",
      "\"package 'carData' was built under R version 3.6.3\"\n",
      "Use the command\n",
      "    lattice::trellis.par.set(effectsTheme())\n",
      "  to customize lattice options for effects plots.\n",
      "See ?effectsTheme for details.\n",
      "\n",
      "Loading required package: nlme\n",
      "\n",
      "\n",
      "Attaching package: 'nlme'\n",
      "\n",
      "\n",
      "The following object is masked from 'package:dplyr':\n",
      "\n",
      "    collapse\n",
      "\n",
      "\n",
      "This is mgcv 1.8-28. For overview type 'help(\"mgcv-package\")'.\n",
      "\n",
      "Warning message:\n",
      "\"package 'lmtest' was built under R version 3.6.3\"\n",
      "Loading required package: zoo\n",
      "\n",
      "\n",
      "Attaching package: 'zoo'\n",
      "\n",
      "\n",
      "The following objects are masked from 'package:base':\n",
      "\n",
      "    as.Date, as.Date.numeric\n",
      "\n",
      "\n",
      "Warning message:\n",
      "\"package 'Epi' was built under R version 3.6.3\"\n"
     ]
    }
   ],
   "source": [
    "library(tidyverse)\n",
    "library(psych)\n",
    "library(gridExtra)\n",
    "library(GGally)\n",
    "library(readxl)\n",
    "library(Hmisc)\n",
    "library(boot)\n",
    "library(rsample)\n",
    "library(pscl)\n",
    "library(MASS)\n",
    "#install.packages(\"effects\")\n",
    "library(effects)\n",
    "library(mgcv)\n",
    "library(lmtest)\n",
    "#install.packages(\"Epi\")\n",
    "library(Epi)\n",
    "#install.packages(\"mgcv\")\n",
    "library(mgcv)\n",
    "library(tidyverse)\n",
    "library(broom)"
   ]
  },
  {
   "cell_type": "code",
   "execution_count": 2,
   "id": "9ac432d3",
   "metadata": {},
   "outputs": [],
   "source": [
    "set.seed(030409)"
   ]
  },
  {
   "cell_type": "markdown",
   "id": "648610ad",
   "metadata": {},
   "source": [
    "## Presentación de los datos\n",
    "La base de datos que se usa para el desarrollo de este proyecto son con respecto de distintas variables: \n",
    "\n",
    "    ° id-> Identificador.\n",
    "    ° gender-> Género: Femenino(Female), Masculino(Male).\n",
    "    ° age-> Edad del individuo.\n",
    "    ° hypertension-> Hipertentensión: 0 si el individuo no presenta hipertensión, 1 si presenta hipertensión.\n",
    "    ° heart_disease-> Enfermedad al corazón: 0 si no presenta enfermedad al corazón, 1 si presenta.\n",
    "    ° ever_married-> Alguna vez casado: sí, no.\n",
    "    ° work_type-> Tipo de trabajo: Niño(children), Trabajo de gobierno(Govt_jov), Nunca ha trabajado(Never_worked), Privado           (Private), Independiente (Self-employed).\n",
    "    ° Residence_type-> Tipo de residencia: Rural, Urbana(Urban).\n",
    "    ° avg_glucose_level-> Nivel medio de glucosa en la sangre.\n",
    "    ° bmi-> Indice de masa coorporal\n",
    "    ° smoking_status-> Estado fumador: anteriormente fumador(formerly smoked), nunca(never smoked), fuma(smokes),                     desconocido(unknown).\n",
    "    ° stroke-> Accidente cerebrovascular: 1 el individuo presento un accidente cerebrovascular, 0 no se presento.\n",
    "A lo largo de esta presentación se realizará un análisis descriptivo de la base de datos."
   ]
  },
  {
   "cell_type": "markdown",
   "id": "a5838b83",
   "metadata": {},
   "source": [
    "## Problema\n",
    "En el contexto de la salud pública, los derrames cerebrales se presenta como la segunda causa de muerte responsable de aproximadamente un $11\\%$ de las muertes en el mundo segun la Organizacion Mundial de la Salud (OMS). Frente a esto es necesario crear modelos para intentar prever la ocurrencia de estos. Para esto utilizaremos el dataset disponible con la finalidad de suministrar un modelo utilizable en la prevencion de los derrames cerebrales."
   ]
  },
  {
   "cell_type": "markdown",
   "id": "a3049327",
   "metadata": {},
   "source": [
    "## Posible solución\n",
    "Frente a esta problemática disponemos con un dataset con los que podremos diferenciar que factores se consideran de mayor riesgo y más determinantes en el riesgo de padecer un derrame cerebral. Nuestra variable de respuesta será la probabilidad de sufrir un derrame cerebral "
   ]
  },
  {
   "cell_type": "markdown",
   "id": "bc5d0154",
   "metadata": {},
   "source": [
    "## Tipo de modelo a utilizar\n",
    "El posible modelo que se utilizará en el conjunto de datos será el modelo logístico."
   ]
  },
  {
   "cell_type": "markdown",
   "id": "ce1398cd",
   "metadata": {},
   "source": [
    "### Análisis descriptivo y visualización de los datos\n",
    "*Se lee la data y a simple vista se observan N/A en la variable bmi*"
   ]
  },
  {
   "cell_type": "code",
   "execution_count": 3,
   "id": "3e351591",
   "metadata": {},
   "outputs": [
    {
     "data": {
      "text/html": [
       "<table class=\"dataframe\">\n",
       "<caption>A data.frame: 6 × 12</caption>\n",
       "<thead>\n",
       "\t<tr><th></th><th scope=col>id</th><th scope=col>gender</th><th scope=col>age</th><th scope=col>hypertension</th><th scope=col>heart_disease</th><th scope=col>ever_married</th><th scope=col>work_type</th><th scope=col>Residence_type</th><th scope=col>avg_glucose_level</th><th scope=col>bmi</th><th scope=col>smoking_status</th><th scope=col>stroke</th></tr>\n",
       "\t<tr><th></th><th scope=col>&lt;int&gt;</th><th scope=col>&lt;fct&gt;</th><th scope=col>&lt;dbl&gt;</th><th scope=col>&lt;int&gt;</th><th scope=col>&lt;int&gt;</th><th scope=col>&lt;fct&gt;</th><th scope=col>&lt;fct&gt;</th><th scope=col>&lt;fct&gt;</th><th scope=col>&lt;dbl&gt;</th><th scope=col>&lt;fct&gt;</th><th scope=col>&lt;fct&gt;</th><th scope=col>&lt;int&gt;</th></tr>\n",
       "</thead>\n",
       "<tbody>\n",
       "\t<tr><th scope=row>1</th><td> 9046</td><td>Male  </td><td>67</td><td>0</td><td>1</td><td>Yes</td><td>Private      </td><td>Urban</td><td>228.69</td><td>36.6</td><td>formerly smoked</td><td>1</td></tr>\n",
       "\t<tr><th scope=row>2</th><td>51676</td><td>Female</td><td>61</td><td>0</td><td>0</td><td>Yes</td><td>Self-employed</td><td>Rural</td><td>202.21</td><td>N/A </td><td>never smoked   </td><td>1</td></tr>\n",
       "\t<tr><th scope=row>3</th><td>31112</td><td>Male  </td><td>80</td><td>0</td><td>1</td><td>Yes</td><td>Private      </td><td>Rural</td><td>105.92</td><td>32.5</td><td>never smoked   </td><td>1</td></tr>\n",
       "\t<tr><th scope=row>4</th><td>60182</td><td>Female</td><td>49</td><td>0</td><td>0</td><td>Yes</td><td>Private      </td><td>Urban</td><td>171.23</td><td>34.4</td><td>smokes         </td><td>1</td></tr>\n",
       "\t<tr><th scope=row>5</th><td> 1665</td><td>Female</td><td>79</td><td>1</td><td>0</td><td>Yes</td><td>Self-employed</td><td>Rural</td><td>174.12</td><td>24  </td><td>never smoked   </td><td>1</td></tr>\n",
       "\t<tr><th scope=row>6</th><td>56669</td><td>Male  </td><td>81</td><td>0</td><td>0</td><td>Yes</td><td>Private      </td><td>Urban</td><td>186.21</td><td>29  </td><td>formerly smoked</td><td>1</td></tr>\n",
       "</tbody>\n",
       "</table>\n"
      ],
      "text/latex": [
       "A data.frame: 6 × 12\n",
       "\\begin{tabular}{r|llllllllllll}\n",
       "  & id & gender & age & hypertension & heart\\_disease & ever\\_married & work\\_type & Residence\\_type & avg\\_glucose\\_level & bmi & smoking\\_status & stroke\\\\\n",
       "  & <int> & <fct> & <dbl> & <int> & <int> & <fct> & <fct> & <fct> & <dbl> & <fct> & <fct> & <int>\\\\\n",
       "\\hline\n",
       "\t1 &  9046 & Male   & 67 & 0 & 1 & Yes & Private       & Urban & 228.69 & 36.6 & formerly smoked & 1\\\\\n",
       "\t2 & 51676 & Female & 61 & 0 & 0 & Yes & Self-employed & Rural & 202.21 & N/A  & never smoked    & 1\\\\\n",
       "\t3 & 31112 & Male   & 80 & 0 & 1 & Yes & Private       & Rural & 105.92 & 32.5 & never smoked    & 1\\\\\n",
       "\t4 & 60182 & Female & 49 & 0 & 0 & Yes & Private       & Urban & 171.23 & 34.4 & smokes          & 1\\\\\n",
       "\t5 &  1665 & Female & 79 & 1 & 0 & Yes & Self-employed & Rural & 174.12 & 24   & never smoked    & 1\\\\\n",
       "\t6 & 56669 & Male   & 81 & 0 & 0 & Yes & Private       & Urban & 186.21 & 29   & formerly smoked & 1\\\\\n",
       "\\end{tabular}\n"
      ],
      "text/markdown": [
       "\n",
       "A data.frame: 6 × 12\n",
       "\n",
       "| <!--/--> | id &lt;int&gt; | gender &lt;fct&gt; | age &lt;dbl&gt; | hypertension &lt;int&gt; | heart_disease &lt;int&gt; | ever_married &lt;fct&gt; | work_type &lt;fct&gt; | Residence_type &lt;fct&gt; | avg_glucose_level &lt;dbl&gt; | bmi &lt;fct&gt; | smoking_status &lt;fct&gt; | stroke &lt;int&gt; |\n",
       "|---|---|---|---|---|---|---|---|---|---|---|---|---|\n",
       "| 1 |  9046 | Male   | 67 | 0 | 1 | Yes | Private       | Urban | 228.69 | 36.6 | formerly smoked | 1 |\n",
       "| 2 | 51676 | Female | 61 | 0 | 0 | Yes | Self-employed | Rural | 202.21 | N/A  | never smoked    | 1 |\n",
       "| 3 | 31112 | Male   | 80 | 0 | 1 | Yes | Private       | Rural | 105.92 | 32.5 | never smoked    | 1 |\n",
       "| 4 | 60182 | Female | 49 | 0 | 0 | Yes | Private       | Urban | 171.23 | 34.4 | smokes          | 1 |\n",
       "| 5 |  1665 | Female | 79 | 1 | 0 | Yes | Self-employed | Rural | 174.12 | 24   | never smoked    | 1 |\n",
       "| 6 | 56669 | Male   | 81 | 0 | 0 | Yes | Private       | Urban | 186.21 | 29   | formerly smoked | 1 |\n",
       "\n"
      ],
      "text/plain": [
       "  id    gender age hypertension heart_disease ever_married work_type    \n",
       "1  9046 Male   67  0            1             Yes          Private      \n",
       "2 51676 Female 61  0            0             Yes          Self-employed\n",
       "3 31112 Male   80  0            1             Yes          Private      \n",
       "4 60182 Female 49  0            0             Yes          Private      \n",
       "5  1665 Female 79  1            0             Yes          Self-employed\n",
       "6 56669 Male   81  0            0             Yes          Private      \n",
       "  Residence_type avg_glucose_level bmi  smoking_status  stroke\n",
       "1 Urban          228.69            36.6 formerly smoked 1     \n",
       "2 Rural          202.21            N/A  never smoked    1     \n",
       "3 Rural          105.92            32.5 never smoked    1     \n",
       "4 Urban          171.23            34.4 smokes          1     \n",
       "5 Rural          174.12            24   never smoked    1     \n",
       "6 Urban          186.21            29   formerly smoked 1     "
      ]
     },
     "metadata": {},
     "output_type": "display_data"
    }
   ],
   "source": [
    "df=read.csv(\"healthcare-dataset-stroke-data.csv\")\n",
    "head(df)"
   ]
  },
  {
   "cell_type": "code",
   "execution_count": 4,
   "id": "f42b3094",
   "metadata": {},
   "outputs": [
    {
     "data": {
      "text/html": [
       "0.951272015655577"
      ],
      "text/latex": [
       "0.951272015655577"
      ],
      "text/markdown": [
       "0.951272015655577"
      ],
      "text/plain": [
       "[1] 0.951272"
      ]
     },
     "metadata": {},
     "output_type": "display_data"
    }
   ],
   "source": [
    "1-sum(df$stroke)/(4861+249)"
   ]
  },
  {
   "cell_type": "code",
   "execution_count": 5,
   "id": "cc417e39",
   "metadata": {},
   "outputs": [
    {
     "data": {
      "text/html": [
       "0.951272015655577"
      ],
      "text/latex": [
       "0.951272015655577"
      ],
      "text/markdown": [
       "0.951272015655577"
      ],
      "text/plain": [
       "[1] 0.951272"
      ]
     },
     "metadata": {},
     "output_type": "display_data"
    }
   ],
   "source": [
    "1-(sum(df$stroke)/length(df$stroke))"
   ]
  },
  {
   "cell_type": "markdown",
   "id": "ffdc84f9",
   "metadata": {},
   "source": [
    "Calculamos el promedio de valores faltantes para observar si podemos hacer una imputacion de datos con el promedio de bmi, la imputacion se realizara si $sig\\_na$ es menor al $2%$"
   ]
  },
  {
   "cell_type": "code",
   "execution_count": 6,
   "id": "63df6766",
   "metadata": {},
   "outputs": [
    {
     "data": {
      "text/html": [
       "0.039334637964775"
      ],
      "text/latex": [
       "0.039334637964775"
      ],
      "text/markdown": [
       "0.039334637964775"
      ],
      "text/plain": [
       "[1] 0.03933464"
      ]
     },
     "metadata": {},
     "output_type": "display_data"
    }
   ],
   "source": [
    "valores_na=filter(df, bmi =='N/A')\n",
    "sig_na=dim(valores_na)[1]/dim(df)[1]\n",
    "sig_na"
   ]
  },
  {
   "cell_type": "markdown",
   "id": "fbcf7e29",
   "metadata": {},
   "source": [
    "*Se observan las dimensiones de la data, en donde exiten $12$ columnas y $5110$ filas, es decir, $5110$ individuos participaron del estudio*"
   ]
  },
  {
   "cell_type": "code",
   "execution_count": 7,
   "id": "d03c7276",
   "metadata": {},
   "outputs": [
    {
     "data": {
      "text/html": [
       "<style>\n",
       ".list-inline {list-style: none; margin:0; padding: 0}\n",
       ".list-inline>li {display: inline-block}\n",
       ".list-inline>li:not(:last-child)::after {content: \"\\00b7\"; padding: 0 .5ex}\n",
       "</style>\n",
       "<ol class=list-inline><li>5110</li><li>12</li></ol>\n"
      ],
      "text/latex": [
       "\\begin{enumerate*}\n",
       "\\item 5110\n",
       "\\item 12\n",
       "\\end{enumerate*}\n"
      ],
      "text/markdown": [
       "1. 5110\n",
       "2. 12\n",
       "\n",
       "\n"
      ],
      "text/plain": [
       "[1] 5110   12"
      ]
     },
     "metadata": {},
     "output_type": "display_data"
    }
   ],
   "source": [
    "dim(df)"
   ]
  },
  {
   "cell_type": "markdown",
   "id": "15923be6",
   "metadata": {},
   "source": [
    "*La variable id no aporta información por ende se elimina. Luego los N/A de la variable bmi se asignan como valores perdidos y se transfroman a numericos, para luego proceder a reemplazarlos. En la variable gender(género) se encuentra solo un individuo que se identifica como otro, por lo que se elimino, para más adelante transformar los datos a binarios.*"
   ]
  },
  {
   "cell_type": "code",
   "execution_count": 8,
   "id": "a001425f",
   "metadata": {},
   "outputs": [],
   "source": [
    "data = df[,-c(1)]\n",
    "data$bmi = ifelse(data$bmi == 'N/A', NA, data$bmi)\n",
    "data$bmi = as.numeric(data$bmi)\n",
    "\n",
    "data = data[!(data$gender == 'Other'),]"
   ]
  },
  {
   "cell_type": "markdown",
   "id": "78cfe394",
   "metadata": {},
   "source": [
    "*A continuación se cambiaron los 1 y 0 de algunas variables con su respectiva atribución para visualizar con mayor facilidad los datos*"
   ]
  },
  {
   "cell_type": "code",
   "execution_count": 9,
   "id": "d0de7a5d",
   "metadata": {},
   "outputs": [],
   "source": [
    "data$stroke_t = ifelse(data$stroke == 1, 'stroke', 'no stroke') \n",
    "data$stroke_t = factor(data$stroke_t)\n",
    "\n",
    "data$hypertension = ifelse(data$hypertension == 1, 'hypertension', 'no hypertension') \n",
    "data$hypertension = factor(data$hypertension)\n",
    "\n",
    "data$heart_disease = ifelse(data$heart_disease == 1, 'heart disease', 'no heart disease') \n",
    "data$heart_disease = factor(data$heart_disease)"
   ]
  },
  {
   "cell_type": "markdown",
   "id": "cdf829a5",
   "metadata": {},
   "source": [
    "*Observamos la data con los cambios realizados*"
   ]
  },
  {
   "cell_type": "code",
   "execution_count": 10,
   "id": "cfe76261",
   "metadata": {},
   "outputs": [
    {
     "data": {
      "text/html": [
       "<style>\n",
       ".list-inline {list-style: none; margin:0; padding: 0}\n",
       ".list-inline>li {display: inline-block}\n",
       ".list-inline>li:not(:last-child)::after {content: \"\\00b7\"; padding: 0 .5ex}\n",
       "</style>\n",
       "<ol class=list-inline><li>2210</li><li>12</li></ol>\n"
      ],
      "text/latex": [
       "\\begin{enumerate*}\n",
       "\\item 2210\n",
       "\\item 12\n",
       "\\end{enumerate*}\n"
      ],
      "text/markdown": [
       "1. 2210\n",
       "2. 12\n",
       "\n",
       "\n"
      ],
      "text/plain": [
       "[1] 2210   12"
      ]
     },
     "metadata": {},
     "output_type": "display_data"
    },
    {
     "data": {
      "text/html": [
       "<table class=\"dataframe\">\n",
       "<caption>A data.frame: 6 × 12</caption>\n",
       "<thead>\n",
       "\t<tr><th></th><th scope=col>gender</th><th scope=col>age</th><th scope=col>hypertension</th><th scope=col>heart_disease</th><th scope=col>ever_married</th><th scope=col>work_type</th><th scope=col>Residence_type</th><th scope=col>avg_glucose_level</th><th scope=col>bmi</th><th scope=col>smoking_status</th><th scope=col>stroke</th><th scope=col>stroke_t</th></tr>\n",
       "\t<tr><th></th><th scope=col>&lt;fct&gt;</th><th scope=col>&lt;dbl&gt;</th><th scope=col>&lt;fct&gt;</th><th scope=col>&lt;fct&gt;</th><th scope=col>&lt;fct&gt;</th><th scope=col>&lt;fct&gt;</th><th scope=col>&lt;fct&gt;</th><th scope=col>&lt;dbl&gt;</th><th scope=col>&lt;dbl&gt;</th><th scope=col>&lt;fct&gt;</th><th scope=col>&lt;int&gt;</th><th scope=col>&lt;fct&gt;</th></tr>\n",
       "</thead>\n",
       "<tbody>\n",
       "\t<tr><th scope=row>1</th><td>Male  </td><td>67</td><td>no hypertension</td><td>heart disease   </td><td>Yes</td><td>Private      </td><td>Urban</td><td>228.69</td><td>240</td><td>formerly smoked</td><td>1</td><td>stroke</td></tr>\n",
       "\t<tr><th scope=row>2</th><td>Female</td><td>61</td><td>no hypertension</td><td>no heart disease</td><td>Yes</td><td>Self-employed</td><td>Rural</td><td>202.21</td><td> NA</td><td>never smoked   </td><td>1</td><td>stroke</td></tr>\n",
       "\t<tr><th scope=row>3</th><td>Male  </td><td>80</td><td>no hypertension</td><td>heart disease   </td><td>Yes</td><td>Private      </td><td>Rural</td><td>105.92</td><td>199</td><td>never smoked   </td><td>1</td><td>stroke</td></tr>\n",
       "\t<tr><th scope=row>4</th><td>Female</td><td>79</td><td>hypertension   </td><td>no heart disease</td><td>Yes</td><td>Self-employed</td><td>Rural</td><td>174.12</td><td>114</td><td>never smoked   </td><td>1</td><td>stroke</td></tr>\n",
       "\t<tr><th scope=row>5</th><td>Male  </td><td>81</td><td>no hypertension</td><td>no heart disease</td><td>Yes</td><td>Private      </td><td>Urban</td><td>186.21</td><td>164</td><td>formerly smoked</td><td>1</td><td>stroke</td></tr>\n",
       "\t<tr><th scope=row>6</th><td>Male  </td><td>74</td><td>hypertension   </td><td>heart disease   </td><td>Yes</td><td>Private      </td><td>Rural</td><td> 70.09</td><td>148</td><td>never smoked   </td><td>1</td><td>stroke</td></tr>\n",
       "</tbody>\n",
       "</table>\n"
      ],
      "text/latex": [
       "A data.frame: 6 × 12\n",
       "\\begin{tabular}{r|llllllllllll}\n",
       "  & gender & age & hypertension & heart\\_disease & ever\\_married & work\\_type & Residence\\_type & avg\\_glucose\\_level & bmi & smoking\\_status & stroke & stroke\\_t\\\\\n",
       "  & <fct> & <dbl> & <fct> & <fct> & <fct> & <fct> & <fct> & <dbl> & <dbl> & <fct> & <int> & <fct>\\\\\n",
       "\\hline\n",
       "\t1 & Male   & 67 & no hypertension & heart disease    & Yes & Private       & Urban & 228.69 & 240 & formerly smoked & 1 & stroke\\\\\n",
       "\t2 & Female & 61 & no hypertension & no heart disease & Yes & Self-employed & Rural & 202.21 &  NA & never smoked    & 1 & stroke\\\\\n",
       "\t3 & Male   & 80 & no hypertension & heart disease    & Yes & Private       & Rural & 105.92 & 199 & never smoked    & 1 & stroke\\\\\n",
       "\t4 & Female & 79 & hypertension    & no heart disease & Yes & Self-employed & Rural & 174.12 & 114 & never smoked    & 1 & stroke\\\\\n",
       "\t5 & Male   & 81 & no hypertension & no heart disease & Yes & Private       & Urban & 186.21 & 164 & formerly smoked & 1 & stroke\\\\\n",
       "\t6 & Male   & 74 & hypertension    & heart disease    & Yes & Private       & Rural &  70.09 & 148 & never smoked    & 1 & stroke\\\\\n",
       "\\end{tabular}\n"
      ],
      "text/markdown": [
       "\n",
       "A data.frame: 6 × 12\n",
       "\n",
       "| <!--/--> | gender &lt;fct&gt; | age &lt;dbl&gt; | hypertension &lt;fct&gt; | heart_disease &lt;fct&gt; | ever_married &lt;fct&gt; | work_type &lt;fct&gt; | Residence_type &lt;fct&gt; | avg_glucose_level &lt;dbl&gt; | bmi &lt;dbl&gt; | smoking_status &lt;fct&gt; | stroke &lt;int&gt; | stroke_t &lt;fct&gt; |\n",
       "|---|---|---|---|---|---|---|---|---|---|---|---|---|\n",
       "| 1 | Male   | 67 | no hypertension | heart disease    | Yes | Private       | Urban | 228.69 | 240 | formerly smoked | 1 | stroke |\n",
       "| 2 | Female | 61 | no hypertension | no heart disease | Yes | Self-employed | Rural | 202.21 |  NA | never smoked    | 1 | stroke |\n",
       "| 3 | Male   | 80 | no hypertension | heart disease    | Yes | Private       | Rural | 105.92 | 199 | never smoked    | 1 | stroke |\n",
       "| 4 | Female | 79 | hypertension    | no heart disease | Yes | Self-employed | Rural | 174.12 | 114 | never smoked    | 1 | stroke |\n",
       "| 5 | Male   | 81 | no hypertension | no heart disease | Yes | Private       | Urban | 186.21 | 164 | formerly smoked | 1 | stroke |\n",
       "| 6 | Male   | 74 | hypertension    | heart disease    | Yes | Private       | Rural |  70.09 | 148 | never smoked    | 1 | stroke |\n",
       "\n"
      ],
      "text/plain": [
       "  gender age hypertension    heart_disease    ever_married work_type    \n",
       "1 Male   67  no hypertension heart disease    Yes          Private      \n",
       "2 Female 61  no hypertension no heart disease Yes          Self-employed\n",
       "3 Male   80  no hypertension heart disease    Yes          Private      \n",
       "4 Female 79  hypertension    no heart disease Yes          Self-employed\n",
       "5 Male   81  no hypertension no heart disease Yes          Private      \n",
       "6 Male   74  hypertension    heart disease    Yes          Private      \n",
       "  Residence_type avg_glucose_level bmi smoking_status  stroke stroke_t\n",
       "1 Urban          228.69            240 formerly smoked 1      stroke  \n",
       "2 Rural          202.21             NA never smoked    1      stroke  \n",
       "3 Rural          105.92            199 never smoked    1      stroke  \n",
       "4 Rural          174.12            114 never smoked    1      stroke  \n",
       "5 Urban          186.21            164 formerly smoked 1      stroke  \n",
       "6 Rural           70.09            148 never smoked    1      stroke  "
      ]
     },
     "metadata": {},
     "output_type": "display_data"
    }
   ],
   "source": [
    "data = data.frame(data)\n",
    "data = filter(data,age >= 50)\n",
    "dim(data)\n",
    "head(data)"
   ]
  },
  {
   "cell_type": "markdown",
   "id": "d969923b",
   "metadata": {},
   "source": [
    "*A continuación en la variable bmi se omiten los NA, y se calcula el promedio y luego todos los NA los se reemplazan por el promedio obtenido $28.9$*"
   ]
  },
  {
   "cell_type": "code",
   "execution_count": 11,
   "id": "ced95aa1",
   "metadata": {},
   "outputs": [
    {
     "data": {
      "text/html": [
       "<table class=\"dataframe\">\n",
       "<caption>A data.frame: 6 × 12</caption>\n",
       "<thead>\n",
       "\t<tr><th></th><th scope=col>gender</th><th scope=col>age</th><th scope=col>hypertension</th><th scope=col>heart_disease</th><th scope=col>ever_married</th><th scope=col>work_type</th><th scope=col>Residence_type</th><th scope=col>avg_glucose_level</th><th scope=col>bmi</th><th scope=col>smoking_status</th><th scope=col>stroke</th><th scope=col>stroke_t</th></tr>\n",
       "\t<tr><th></th><th scope=col>&lt;fct&gt;</th><th scope=col>&lt;dbl&gt;</th><th scope=col>&lt;fct&gt;</th><th scope=col>&lt;fct&gt;</th><th scope=col>&lt;fct&gt;</th><th scope=col>&lt;fct&gt;</th><th scope=col>&lt;fct&gt;</th><th scope=col>&lt;dbl&gt;</th><th scope=col>&lt;dbl&gt;</th><th scope=col>&lt;fct&gt;</th><th scope=col>&lt;int&gt;</th><th scope=col>&lt;fct&gt;</th></tr>\n",
       "</thead>\n",
       "<tbody>\n",
       "\t<tr><th scope=row>1</th><td>Male  </td><td>67</td><td>no hypertension</td><td>heart disease   </td><td>Yes</td><td>Private      </td><td>Urban</td><td>228.69</td><td>240</td><td>formerly smoked</td><td>1</td><td>stroke</td></tr>\n",
       "\t<tr><th scope=row>2</th><td>Female</td><td>61</td><td>no hypertension</td><td>no heart disease</td><td>Yes</td><td>Self-employed</td><td>Rural</td><td>202.21</td><td> NA</td><td>never smoked   </td><td>1</td><td>stroke</td></tr>\n",
       "\t<tr><th scope=row>3</th><td>Male  </td><td>80</td><td>no hypertension</td><td>heart disease   </td><td>Yes</td><td>Private      </td><td>Rural</td><td>105.92</td><td>199</td><td>never smoked   </td><td>1</td><td>stroke</td></tr>\n",
       "\t<tr><th scope=row>4</th><td>Female</td><td>79</td><td>hypertension   </td><td>no heart disease</td><td>Yes</td><td>Self-employed</td><td>Rural</td><td>174.12</td><td>114</td><td>never smoked   </td><td>1</td><td>stroke</td></tr>\n",
       "\t<tr><th scope=row>5</th><td>Male  </td><td>81</td><td>no hypertension</td><td>no heart disease</td><td>Yes</td><td>Private      </td><td>Urban</td><td>186.21</td><td>164</td><td>formerly smoked</td><td>1</td><td>stroke</td></tr>\n",
       "\t<tr><th scope=row>6</th><td>Male  </td><td>74</td><td>hypertension   </td><td>heart disease   </td><td>Yes</td><td>Private      </td><td>Rural</td><td> 70.09</td><td>148</td><td>never smoked   </td><td>1</td><td>stroke</td></tr>\n",
       "</tbody>\n",
       "</table>\n"
      ],
      "text/latex": [
       "A data.frame: 6 × 12\n",
       "\\begin{tabular}{r|llllllllllll}\n",
       "  & gender & age & hypertension & heart\\_disease & ever\\_married & work\\_type & Residence\\_type & avg\\_glucose\\_level & bmi & smoking\\_status & stroke & stroke\\_t\\\\\n",
       "  & <fct> & <dbl> & <fct> & <fct> & <fct> & <fct> & <fct> & <dbl> & <dbl> & <fct> & <int> & <fct>\\\\\n",
       "\\hline\n",
       "\t1 & Male   & 67 & no hypertension & heart disease    & Yes & Private       & Urban & 228.69 & 240 & formerly smoked & 1 & stroke\\\\\n",
       "\t2 & Female & 61 & no hypertension & no heart disease & Yes & Self-employed & Rural & 202.21 &  NA & never smoked    & 1 & stroke\\\\\n",
       "\t3 & Male   & 80 & no hypertension & heart disease    & Yes & Private       & Rural & 105.92 & 199 & never smoked    & 1 & stroke\\\\\n",
       "\t4 & Female & 79 & hypertension    & no heart disease & Yes & Self-employed & Rural & 174.12 & 114 & never smoked    & 1 & stroke\\\\\n",
       "\t5 & Male   & 81 & no hypertension & no heart disease & Yes & Private       & Urban & 186.21 & 164 & formerly smoked & 1 & stroke\\\\\n",
       "\t6 & Male   & 74 & hypertension    & heart disease    & Yes & Private       & Rural &  70.09 & 148 & never smoked    & 1 & stroke\\\\\n",
       "\\end{tabular}\n"
      ],
      "text/markdown": [
       "\n",
       "A data.frame: 6 × 12\n",
       "\n",
       "| <!--/--> | gender &lt;fct&gt; | age &lt;dbl&gt; | hypertension &lt;fct&gt; | heart_disease &lt;fct&gt; | ever_married &lt;fct&gt; | work_type &lt;fct&gt; | Residence_type &lt;fct&gt; | avg_glucose_level &lt;dbl&gt; | bmi &lt;dbl&gt; | smoking_status &lt;fct&gt; | stroke &lt;int&gt; | stroke_t &lt;fct&gt; |\n",
       "|---|---|---|---|---|---|---|---|---|---|---|---|---|\n",
       "| 1 | Male   | 67 | no hypertension | heart disease    | Yes | Private       | Urban | 228.69 | 240 | formerly smoked | 1 | stroke |\n",
       "| 2 | Female | 61 | no hypertension | no heart disease | Yes | Self-employed | Rural | 202.21 |  NA | never smoked    | 1 | stroke |\n",
       "| 3 | Male   | 80 | no hypertension | heart disease    | Yes | Private       | Rural | 105.92 | 199 | never smoked    | 1 | stroke |\n",
       "| 4 | Female | 79 | hypertension    | no heart disease | Yes | Self-employed | Rural | 174.12 | 114 | never smoked    | 1 | stroke |\n",
       "| 5 | Male   | 81 | no hypertension | no heart disease | Yes | Private       | Urban | 186.21 | 164 | formerly smoked | 1 | stroke |\n",
       "| 6 | Male   | 74 | hypertension    | heart disease    | Yes | Private       | Rural |  70.09 | 148 | never smoked    | 1 | stroke |\n",
       "\n"
      ],
      "text/plain": [
       "  gender age hypertension    heart_disease    ever_married work_type    \n",
       "1 Male   67  no hypertension heart disease    Yes          Private      \n",
       "2 Female 61  no hypertension no heart disease Yes          Self-employed\n",
       "3 Male   80  no hypertension heart disease    Yes          Private      \n",
       "4 Female 79  hypertension    no heart disease Yes          Self-employed\n",
       "5 Male   81  no hypertension no heart disease Yes          Private      \n",
       "6 Male   74  hypertension    heart disease    Yes          Private      \n",
       "  Residence_type avg_glucose_level bmi smoking_status  stroke stroke_t\n",
       "1 Urban          228.69            240 formerly smoked 1      stroke  \n",
       "2 Rural          202.21             NA never smoked    1      stroke  \n",
       "3 Rural          105.92            199 never smoked    1      stroke  \n",
       "4 Rural          174.12            114 never smoked    1      stroke  \n",
       "5 Urban          186.21            164 formerly smoked 1      stroke  \n",
       "6 Rural           70.09            148 never smoked    1      stroke  "
      ]
     },
     "metadata": {},
     "output_type": "display_data"
    }
   ],
   "source": [
    "# eliminamos la imputacion original\n",
    "# data$bmi[is.na(data$bmi)] <- round(mean(na.omit(data$bmi)),1)\n",
    "head(data)"
   ]
  },
  {
   "cell_type": "markdown",
   "id": "aa51ea7b",
   "metadata": {},
   "source": [
    "*Se realiza un resumen estadístico para cada variable. En las variables categóricas no se obtiene información relevante solo la cantidad total de individuos, como en genero, alguna vez casado, tipo de trabajo, tipo de residencia, estado fumador. Mientras que para las demás variables categoricas se obtiene el total por cada categoria. Para la edad se obtuvo un promedio de $43$ años, un mínimo de $0.08$ años que vendria siendo menos de un mes, y el máximo es de $82$ años. El nivel mínimo de glucosa en la sangre entre los individuos del estudio es de $55.12$, con una media $106.14$ y un máximo $271.47$. Para el índice de masa corporal se obtuvo un promedio de $28.89$, un máximo de $97.60$  y un mínimo $28.40$ y finalmente para los derrames cerebrales se obtiene una media de $0.048$ el cual no es significativo, ya que es una variable dicotomica, por ende solo existen unos y ceros.*"
   ]
  },
  {
   "cell_type": "code",
   "execution_count": 12,
   "id": "e0fd493c",
   "metadata": {},
   "outputs": [
    {
     "data": {
      "text/plain": [
       "    gender          age                 hypertension           heart_disease \n",
       " Female:1273   Min.   :50.00   hypertension   : 412   heart disease   : 261  \n",
       " Male  : 937   1st Qu.:56.00   no hypertension:1798   no heart disease:1949  \n",
       " Other :   0   Median :63.00                                                 \n",
       "               Mean   :64.68                                                 \n",
       "               3rd Qu.:74.00                                                 \n",
       "               Max.   :82.00                                                 \n",
       "                                                                             \n",
       " ever_married         work_type    Residence_type avg_glucose_level\n",
       " No : 172     children     :   0   Rural:1064     Min.   : 55.23   \n",
       " Yes:2038     Govt_job     : 361   Urban:1146     1st Qu.: 79.17   \n",
       "              Never_worked :   0                  Median : 95.88   \n",
       "              Private      :1242                  Mean   :118.44   \n",
       "              Self-employed: 607                  3rd Qu.:145.34   \n",
       "                                                  Max.   :271.74   \n",
       "                                                                   \n",
       "      bmi                smoking_status     stroke            stroke_t   \n",
       " Min.   :  2.0   formerly smoked:580    Min.   :0.0000   no stroke:1981  \n",
       " 1st Qu.:138.0   never smoked   :864    1st Qu.:0.0000   stroke   : 229  \n",
       " Median :171.0   smokes         :355    Median :0.0000                   \n",
       " Mean   :179.9   Unknown        :411    Mean   :0.1036                   \n",
       " 3rd Qu.:215.0                          3rd Qu.:0.0000                   \n",
       " Max.   :414.0                          Max.   :1.0000                   \n",
       " NA's   :120                                                             "
      ]
     },
     "metadata": {},
     "output_type": "display_data"
    }
   ],
   "source": [
    "summary(data)"
   ]
  },
  {
   "cell_type": "markdown",
   "id": "1f9ad1c2",
   "metadata": {},
   "source": [
    "*En el siguiente paso lo que se realizó fue por cada variable, contar la cantidad de individuos por atributo de esa variable(n), y por cada atributo cuanta cuantos accidentes cerebrovasculares estan presentes(derrames), y por otro lado tenemos el porcentaje el cual corresponde a el porcentaje de derrames en ese atributo, mejor dicho a la proporción de derrames presentes en ese atributo.* "
   ]
  },
  {
   "cell_type": "code",
   "execution_count": 13,
   "id": "ffb01227",
   "metadata": {
    "scrolled": false
   },
   "outputs": [
    {
     "data": {
      "text/html": [
       "<table class=\"dataframe\">\n",
       "<caption>A tibble: 2 × 4</caption>\n",
       "<thead>\n",
       "\t<tr><th scope=col>gender</th><th scope=col>porcentaje</th><th scope=col>n</th><th scope=col>derrames</th></tr>\n",
       "\t<tr><th scope=col>&lt;fct&gt;</th><th scope=col>&lt;dbl&gt;</th><th scope=col>&lt;int&gt;</th><th scope=col>&lt;int&gt;</th></tr>\n",
       "</thead>\n",
       "<tbody>\n",
       "\t<tr><td>Female</td><td>0.100</td><td>1273</td><td>127</td></tr>\n",
       "\t<tr><td>Male  </td><td>0.109</td><td> 937</td><td>102</td></tr>\n",
       "</tbody>\n",
       "</table>\n"
      ],
      "text/latex": [
       "A tibble: 2 × 4\n",
       "\\begin{tabular}{llll}\n",
       " gender & porcentaje & n & derrames\\\\\n",
       " <fct> & <dbl> & <int> & <int>\\\\\n",
       "\\hline\n",
       "\t Female & 0.100 & 1273 & 127\\\\\n",
       "\t Male   & 0.109 &  937 & 102\\\\\n",
       "\\end{tabular}\n"
      ],
      "text/markdown": [
       "\n",
       "A tibble: 2 × 4\n",
       "\n",
       "| gender &lt;fct&gt; | porcentaje &lt;dbl&gt; | n &lt;int&gt; | derrames &lt;int&gt; |\n",
       "|---|---|---|---|\n",
       "| Female | 0.100 | 1273 | 127 |\n",
       "| Male   | 0.109 |  937 | 102 |\n",
       "\n"
      ],
      "text/plain": [
       "  gender porcentaje n    derrames\n",
       "1 Female 0.100      1273 127     \n",
       "2 Male   0.109       937 102     "
      ]
     },
     "metadata": {},
     "output_type": "display_data"
    },
    {
     "data": {
      "text/html": [
       "<table class=\"dataframe\">\n",
       "<caption>A tibble: 2 × 4</caption>\n",
       "<thead>\n",
       "\t<tr><th scope=col>hypertension</th><th scope=col>porcentaje</th><th scope=col>n</th><th scope=col>derrames</th></tr>\n",
       "\t<tr><th scope=col>&lt;fct&gt;</th><th scope=col>&lt;dbl&gt;</th><th scope=col>&lt;int&gt;</th><th scope=col>&lt;int&gt;</th></tr>\n",
       "</thead>\n",
       "<tbody>\n",
       "\t<tr><td>hypertension   </td><td>0.158</td><td> 412</td><td> 65</td></tr>\n",
       "\t<tr><td>no hypertension</td><td>0.091</td><td>1798</td><td>164</td></tr>\n",
       "</tbody>\n",
       "</table>\n"
      ],
      "text/latex": [
       "A tibble: 2 × 4\n",
       "\\begin{tabular}{llll}\n",
       " hypertension & porcentaje & n & derrames\\\\\n",
       " <fct> & <dbl> & <int> & <int>\\\\\n",
       "\\hline\n",
       "\t hypertension    & 0.158 &  412 &  65\\\\\n",
       "\t no hypertension & 0.091 & 1798 & 164\\\\\n",
       "\\end{tabular}\n"
      ],
      "text/markdown": [
       "\n",
       "A tibble: 2 × 4\n",
       "\n",
       "| hypertension &lt;fct&gt; | porcentaje &lt;dbl&gt; | n &lt;int&gt; | derrames &lt;int&gt; |\n",
       "|---|---|---|---|\n",
       "| hypertension    | 0.158 |  412 |  65 |\n",
       "| no hypertension | 0.091 | 1798 | 164 |\n",
       "\n"
      ],
      "text/plain": [
       "  hypertension    porcentaje n    derrames\n",
       "1 hypertension    0.158       412  65     \n",
       "2 no hypertension 0.091      1798 164     "
      ]
     },
     "metadata": {},
     "output_type": "display_data"
    },
    {
     "data": {
      "text/html": [
       "<table class=\"dataframe\">\n",
       "<caption>A tibble: 2 × 4</caption>\n",
       "<thead>\n",
       "\t<tr><th scope=col>heart_disease</th><th scope=col>porcentaje</th><th scope=col>n</th><th scope=col>derrames</th></tr>\n",
       "\t<tr><th scope=col>&lt;fct&gt;</th><th scope=col>&lt;dbl&gt;</th><th scope=col>&lt;int&gt;</th><th scope=col>&lt;int&gt;</th></tr>\n",
       "</thead>\n",
       "<tbody>\n",
       "\t<tr><td>heart disease   </td><td>0.180</td><td> 261</td><td> 47</td></tr>\n",
       "\t<tr><td>no heart disease</td><td>0.093</td><td>1949</td><td>182</td></tr>\n",
       "</tbody>\n",
       "</table>\n"
      ],
      "text/latex": [
       "A tibble: 2 × 4\n",
       "\\begin{tabular}{llll}\n",
       " heart\\_disease & porcentaje & n & derrames\\\\\n",
       " <fct> & <dbl> & <int> & <int>\\\\\n",
       "\\hline\n",
       "\t heart disease    & 0.180 &  261 &  47\\\\\n",
       "\t no heart disease & 0.093 & 1949 & 182\\\\\n",
       "\\end{tabular}\n"
      ],
      "text/markdown": [
       "\n",
       "A tibble: 2 × 4\n",
       "\n",
       "| heart_disease &lt;fct&gt; | porcentaje &lt;dbl&gt; | n &lt;int&gt; | derrames &lt;int&gt; |\n",
       "|---|---|---|---|\n",
       "| heart disease    | 0.180 |  261 |  47 |\n",
       "| no heart disease | 0.093 | 1949 | 182 |\n",
       "\n"
      ],
      "text/plain": [
       "  heart_disease    porcentaje n    derrames\n",
       "1 heart disease    0.180       261  47     \n",
       "2 no heart disease 0.093      1949 182     "
      ]
     },
     "metadata": {},
     "output_type": "display_data"
    },
    {
     "data": {
      "text/html": [
       "<table class=\"dataframe\">\n",
       "<caption>A tibble: 2 × 4</caption>\n",
       "<thead>\n",
       "\t<tr><th scope=col>ever_married</th><th scope=col>porcentaje</th><th scope=col>n</th><th scope=col>derrames</th></tr>\n",
       "\t<tr><th scope=col>&lt;fct&gt;</th><th scope=col>&lt;dbl&gt;</th><th scope=col>&lt;int&gt;</th><th scope=col>&lt;int&gt;</th></tr>\n",
       "</thead>\n",
       "<tbody>\n",
       "\t<tr><td>No </td><td>0.140</td><td> 172</td><td> 24</td></tr>\n",
       "\t<tr><td>Yes</td><td>0.101</td><td>2038</td><td>205</td></tr>\n",
       "</tbody>\n",
       "</table>\n"
      ],
      "text/latex": [
       "A tibble: 2 × 4\n",
       "\\begin{tabular}{llll}\n",
       " ever\\_married & porcentaje & n & derrames\\\\\n",
       " <fct> & <dbl> & <int> & <int>\\\\\n",
       "\\hline\n",
       "\t No  & 0.140 &  172 &  24\\\\\n",
       "\t Yes & 0.101 & 2038 & 205\\\\\n",
       "\\end{tabular}\n"
      ],
      "text/markdown": [
       "\n",
       "A tibble: 2 × 4\n",
       "\n",
       "| ever_married &lt;fct&gt; | porcentaje &lt;dbl&gt; | n &lt;int&gt; | derrames &lt;int&gt; |\n",
       "|---|---|---|---|\n",
       "| No  | 0.140 |  172 |  24 |\n",
       "| Yes | 0.101 | 2038 | 205 |\n",
       "\n"
      ],
      "text/plain": [
       "  ever_married porcentaje n    derrames\n",
       "1 No           0.140       172  24     \n",
       "2 Yes          0.101      2038 205     "
      ]
     },
     "metadata": {},
     "output_type": "display_data"
    },
    {
     "data": {
      "text/html": [
       "<table class=\"dataframe\">\n",
       "<caption>A tibble: 3 × 4</caption>\n",
       "<thead>\n",
       "\t<tr><th scope=col>work_type</th><th scope=col>porcentaje</th><th scope=col>n</th><th scope=col>derrames</th></tr>\n",
       "\t<tr><th scope=col>&lt;fct&gt;</th><th scope=col>&lt;dbl&gt;</th><th scope=col>&lt;int&gt;</th><th scope=col>&lt;int&gt;</th></tr>\n",
       "</thead>\n",
       "<tbody>\n",
       "\t<tr><td>Govt_job     </td><td>0.089</td><td> 361</td><td> 32</td></tr>\n",
       "\t<tr><td>Private      </td><td>0.109</td><td>1242</td><td>135</td></tr>\n",
       "\t<tr><td>Self-employed</td><td>0.102</td><td> 607</td><td> 62</td></tr>\n",
       "</tbody>\n",
       "</table>\n"
      ],
      "text/latex": [
       "A tibble: 3 × 4\n",
       "\\begin{tabular}{llll}\n",
       " work\\_type & porcentaje & n & derrames\\\\\n",
       " <fct> & <dbl> & <int> & <int>\\\\\n",
       "\\hline\n",
       "\t Govt\\_job      & 0.089 &  361 &  32\\\\\n",
       "\t Private       & 0.109 & 1242 & 135\\\\\n",
       "\t Self-employed & 0.102 &  607 &  62\\\\\n",
       "\\end{tabular}\n"
      ],
      "text/markdown": [
       "\n",
       "A tibble: 3 × 4\n",
       "\n",
       "| work_type &lt;fct&gt; | porcentaje &lt;dbl&gt; | n &lt;int&gt; | derrames &lt;int&gt; |\n",
       "|---|---|---|---|\n",
       "| Govt_job      | 0.089 |  361 |  32 |\n",
       "| Private       | 0.109 | 1242 | 135 |\n",
       "| Self-employed | 0.102 |  607 |  62 |\n",
       "\n"
      ],
      "text/plain": [
       "  work_type     porcentaje n    derrames\n",
       "1 Govt_job      0.089       361  32     \n",
       "2 Private       0.109      1242 135     \n",
       "3 Self-employed 0.102       607  62     "
      ]
     },
     "metadata": {},
     "output_type": "display_data"
    },
    {
     "data": {
      "text/html": [
       "<table class=\"dataframe\">\n",
       "<caption>A tibble: 2 × 4</caption>\n",
       "<thead>\n",
       "\t<tr><th scope=col>Residence_type</th><th scope=col>porcentaje</th><th scope=col>n</th><th scope=col>derrames</th></tr>\n",
       "\t<tr><th scope=col>&lt;fct&gt;</th><th scope=col>&lt;dbl&gt;</th><th scope=col>&lt;int&gt;</th><th scope=col>&lt;int&gt;</th></tr>\n",
       "</thead>\n",
       "<tbody>\n",
       "\t<tr><td>Rural</td><td>0.099</td><td>1064</td><td>105</td></tr>\n",
       "\t<tr><td>Urban</td><td>0.108</td><td>1146</td><td>124</td></tr>\n",
       "</tbody>\n",
       "</table>\n"
      ],
      "text/latex": [
       "A tibble: 2 × 4\n",
       "\\begin{tabular}{llll}\n",
       " Residence\\_type & porcentaje & n & derrames\\\\\n",
       " <fct> & <dbl> & <int> & <int>\\\\\n",
       "\\hline\n",
       "\t Rural & 0.099 & 1064 & 105\\\\\n",
       "\t Urban & 0.108 & 1146 & 124\\\\\n",
       "\\end{tabular}\n"
      ],
      "text/markdown": [
       "\n",
       "A tibble: 2 × 4\n",
       "\n",
       "| Residence_type &lt;fct&gt; | porcentaje &lt;dbl&gt; | n &lt;int&gt; | derrames &lt;int&gt; |\n",
       "|---|---|---|---|\n",
       "| Rural | 0.099 | 1064 | 105 |\n",
       "| Urban | 0.108 | 1146 | 124 |\n",
       "\n"
      ],
      "text/plain": [
       "  Residence_type porcentaje n    derrames\n",
       "1 Rural          0.099      1064 105     \n",
       "2 Urban          0.108      1146 124     "
      ]
     },
     "metadata": {},
     "output_type": "display_data"
    },
    {
     "data": {
      "text/html": [
       "<table class=\"dataframe\">\n",
       "<caption>A tibble: 4 × 4</caption>\n",
       "<thead>\n",
       "\t<tr><th scope=col>smoking_status</th><th scope=col>porcentaje</th><th scope=col>n</th><th scope=col>derrames</th></tr>\n",
       "\t<tr><th scope=col>&lt;fct&gt;</th><th scope=col>&lt;dbl&gt;</th><th scope=col>&lt;int&gt;</th><th scope=col>&lt;int&gt;</th></tr>\n",
       "</thead>\n",
       "<tbody>\n",
       "\t<tr><td>formerly smoked</td><td>0.114</td><td>580</td><td>66</td></tr>\n",
       "\t<tr><td>never smoked   </td><td>0.096</td><td>864</td><td>83</td></tr>\n",
       "\t<tr><td>smokes         </td><td>0.104</td><td>355</td><td>37</td></tr>\n",
       "\t<tr><td>Unknown        </td><td>0.105</td><td>411</td><td>43</td></tr>\n",
       "</tbody>\n",
       "</table>\n"
      ],
      "text/latex": [
       "A tibble: 4 × 4\n",
       "\\begin{tabular}{llll}\n",
       " smoking\\_status & porcentaje & n & derrames\\\\\n",
       " <fct> & <dbl> & <int> & <int>\\\\\n",
       "\\hline\n",
       "\t formerly smoked & 0.114 & 580 & 66\\\\\n",
       "\t never smoked    & 0.096 & 864 & 83\\\\\n",
       "\t smokes          & 0.104 & 355 & 37\\\\\n",
       "\t Unknown         & 0.105 & 411 & 43\\\\\n",
       "\\end{tabular}\n"
      ],
      "text/markdown": [
       "\n",
       "A tibble: 4 × 4\n",
       "\n",
       "| smoking_status &lt;fct&gt; | porcentaje &lt;dbl&gt; | n &lt;int&gt; | derrames &lt;int&gt; |\n",
       "|---|---|---|---|\n",
       "| formerly smoked | 0.114 | 580 | 66 |\n",
       "| never smoked    | 0.096 | 864 | 83 |\n",
       "| smokes          | 0.104 | 355 | 37 |\n",
       "| Unknown         | 0.105 | 411 | 43 |\n",
       "\n"
      ],
      "text/plain": [
       "  smoking_status  porcentaje n   derrames\n",
       "1 formerly smoked 0.114      580 66      \n",
       "2 never smoked    0.096      864 83      \n",
       "3 smokes          0.104      355 37      \n",
       "4 Unknown         0.105      411 43      "
      ]
     },
     "metadata": {},
     "output_type": "display_data"
    },
    {
     "data": {
      "text/html": [
       "<table class=\"dataframe\">\n",
       "<caption>A tibble: 2 × 4</caption>\n",
       "<thead>\n",
       "\t<tr><th scope=col>stroke_t</th><th scope=col>porcentaje</th><th scope=col>n</th><th scope=col>derrames</th></tr>\n",
       "\t<tr><th scope=col>&lt;fct&gt;</th><th scope=col>&lt;dbl&gt;</th><th scope=col>&lt;int&gt;</th><th scope=col>&lt;int&gt;</th></tr>\n",
       "</thead>\n",
       "<tbody>\n",
       "\t<tr><td>no stroke</td><td>0</td><td>1981</td><td>  0</td></tr>\n",
       "\t<tr><td>stroke   </td><td>1</td><td> 229</td><td>229</td></tr>\n",
       "</tbody>\n",
       "</table>\n"
      ],
      "text/latex": [
       "A tibble: 2 × 4\n",
       "\\begin{tabular}{llll}\n",
       " stroke\\_t & porcentaje & n & derrames\\\\\n",
       " <fct> & <dbl> & <int> & <int>\\\\\n",
       "\\hline\n",
       "\t no stroke & 0 & 1981 &   0\\\\\n",
       "\t stroke    & 1 &  229 & 229\\\\\n",
       "\\end{tabular}\n"
      ],
      "text/markdown": [
       "\n",
       "A tibble: 2 × 4\n",
       "\n",
       "| stroke_t &lt;fct&gt; | porcentaje &lt;dbl&gt; | n &lt;int&gt; | derrames &lt;int&gt; |\n",
       "|---|---|---|---|\n",
       "| no stroke | 0 | 1981 |   0 |\n",
       "| stroke    | 1 |  229 | 229 |\n",
       "\n"
      ],
      "text/plain": [
       "  stroke_t  porcentaje n    derrames\n",
       "1 no stroke 0          1981   0     \n",
       "2 stroke    1           229 229     "
      ]
     },
     "metadata": {},
     "output_type": "display_data"
    }
   ],
   "source": [
    "for (col_name in colnames(data[sapply(data, function(x) !(is.numeric(x)))])){\n",
    "    output <- data %>%\n",
    "        group_by(!!sym(col_name)) %>%\n",
    "        summarise(\n",
    "            porcentaje = round(mean(stroke), 3),\n",
    "            n = n(),\n",
    "            derrames = sum(stroke == 1)\n",
    "        )\n",
    "    View(output)\n",
    "}"
   ]
  },
  {
   "cell_type": "code",
   "execution_count": 14,
   "id": "c6f88b6b",
   "metadata": {},
   "outputs": [
    {
     "data": {
      "text/plain": [
       "\n",
       "   0    1 \n",
       "1981  229 "
      ]
     },
     "metadata": {},
     "output_type": "display_data"
    },
    {
     "data": {
      "text/html": [
       "0.89942074776198"
      ],
      "text/latex": [
       "0.89942074776198"
      ],
      "text/markdown": [
       "0.89942074776198"
      ],
      "text/plain": [
       "[1] 0.8994207"
      ]
     },
     "metadata": {},
     "output_type": "display_data"
    }
   ],
   "source": [
    "table(data$stroke)\n",
    "1-191/1899"
   ]
  },
  {
   "cell_type": "code",
   "execution_count": 15,
   "id": "23d42f9e",
   "metadata": {},
   "outputs": [],
   "source": [
    "data=na.omit(data)"
   ]
  },
  {
   "cell_type": "code",
   "execution_count": 16,
   "id": "606b31c1",
   "metadata": {},
   "outputs": [
    {
     "name": "stderr",
     "output_type": "stream",
     "text": [
      "`summarise()` has grouped output by 'work_type'. You can override using the `.groups` argument.\n",
      "\n"
     ]
    },
    {
     "data": {
      "text/html": [
       "<table class=\"dataframe\">\n",
       "<caption>A grouped_df: 6 × 5</caption>\n",
       "<thead>\n",
       "\t<tr><th scope=col>work_type</th><th scope=col>Residence_type</th><th scope=col>n</th><th scope=col>porcentaje</th><th scope=col>derrames</th></tr>\n",
       "\t<tr><th scope=col>&lt;fct&gt;</th><th scope=col>&lt;fct&gt;</th><th scope=col>&lt;int&gt;</th><th scope=col>&lt;dbl&gt;</th><th scope=col>&lt;int&gt;</th></tr>\n",
       "</thead>\n",
       "<tbody>\n",
       "\t<tr><td>Govt_job     </td><td>Rural</td><td>162</td><td>0.080</td><td>13</td></tr>\n",
       "\t<tr><td>Govt_job     </td><td>Urban</td><td>182</td><td>0.077</td><td>14</td></tr>\n",
       "\t<tr><td>Private      </td><td>Rural</td><td>576</td><td>0.094</td><td>54</td></tr>\n",
       "\t<tr><td>Private      </td><td>Urban</td><td>600</td><td>0.100</td><td>60</td></tr>\n",
       "\t<tr><td>Self-employed</td><td>Rural</td><td>276</td><td>0.091</td><td>25</td></tr>\n",
       "\t<tr><td>Self-employed</td><td>Urban</td><td>294</td><td>0.085</td><td>25</td></tr>\n",
       "</tbody>\n",
       "</table>\n"
      ],
      "text/latex": [
       "A grouped\\_df: 6 × 5\n",
       "\\begin{tabular}{lllll}\n",
       " work\\_type & Residence\\_type & n & porcentaje & derrames\\\\\n",
       " <fct> & <fct> & <int> & <dbl> & <int>\\\\\n",
       "\\hline\n",
       "\t Govt\\_job      & Rural & 162 & 0.080 & 13\\\\\n",
       "\t Govt\\_job      & Urban & 182 & 0.077 & 14\\\\\n",
       "\t Private       & Rural & 576 & 0.094 & 54\\\\\n",
       "\t Private       & Urban & 600 & 0.100 & 60\\\\\n",
       "\t Self-employed & Rural & 276 & 0.091 & 25\\\\\n",
       "\t Self-employed & Urban & 294 & 0.085 & 25\\\\\n",
       "\\end{tabular}\n"
      ],
      "text/markdown": [
       "\n",
       "A grouped_df: 6 × 5\n",
       "\n",
       "| work_type &lt;fct&gt; | Residence_type &lt;fct&gt; | n &lt;int&gt; | porcentaje &lt;dbl&gt; | derrames &lt;int&gt; |\n",
       "|---|---|---|---|---|\n",
       "| Govt_job      | Rural | 162 | 0.080 | 13 |\n",
       "| Govt_job      | Urban | 182 | 0.077 | 14 |\n",
       "| Private       | Rural | 576 | 0.094 | 54 |\n",
       "| Private       | Urban | 600 | 0.100 | 60 |\n",
       "| Self-employed | Rural | 276 | 0.091 | 25 |\n",
       "| Self-employed | Urban | 294 | 0.085 | 25 |\n",
       "\n"
      ],
      "text/plain": [
       "  work_type     Residence_type n   porcentaje derrames\n",
       "1 Govt_job      Rural          162 0.080      13      \n",
       "2 Govt_job      Urban          182 0.077      14      \n",
       "3 Private       Rural          576 0.094      54      \n",
       "4 Private       Urban          600 0.100      60      \n",
       "5 Self-employed Rural          276 0.091      25      \n",
       "6 Self-employed Urban          294 0.085      25      "
      ]
     },
     "metadata": {},
     "output_type": "display_data"
    }
   ],
   "source": [
    "data %>%\n",
    "    group_by(work_type, Residence_type) %>%\n",
    "    summarise(\n",
    "        n = n(), \n",
    "        porcentaje = round(mean(stroke), 3),\n",
    "        derrames = sum(stroke)\n",
    "    )"
   ]
  },
  {
   "cell_type": "markdown",
   "id": "7a950768",
   "metadata": {},
   "source": [
    "*A continuación se presentan distintos gráficos. Podemos observar en el siguiente gráfico el histograma de la frecuencia de edad, se nota claramente un pick o más bien una mayor frecuencia por los 45 años aproximadamente.*"
   ]
  },
  {
   "cell_type": "code",
   "execution_count": 17,
   "id": "afc7931f",
   "metadata": {},
   "outputs": [
    {
     "data": {
      "image/png": "[encoded data removed]",
      "text/plain": [
       "plot without title"
      ]
     },
     "metadata": {
      "image/png": {
       "height": 420,
       "width": 420
      }
     },
     "output_type": "display_data"
    }
   ],
   "source": [
    "ggplot(data, aes(x = age)) + \n",
    "    geom_histogram(fill = '#F8766D', col = 'black',bins = max(data$age)) +   \n",
    "labs(title = \"Histograma de la edad\",\n",
    "       x=\"Edad\",\n",
    "       y=\"Frecuencia\")"
   ]
  },
  {
   "cell_type": "markdown",
   "id": "31b115f2",
   "metadata": {},
   "source": [
    "*A continuación se aprecia el histograma del índice de masa corpolar, donde se observa una pequeña cola a la derecha, es decir que pocas personas tienen un IMC alto.*"
   ]
  },
  {
   "cell_type": "code",
   "execution_count": 18,
   "id": "549a72d4",
   "metadata": {},
   "outputs": [
    {
     "data": {
      "image/png": "[encoded data removed]",
      "text/plain": [
       "plot without title"
      ]
     },
     "metadata": {
      "image/png": {
       "height": 420,
       "width": 420
      }
     },
     "output_type": "display_data"
    }
   ],
   "source": [
    "ggplot(data, aes(x = bmi)) + geom_histogram(fill = '#7CAE00', col = 'black',bins =  max(na.omit(data$bmi))) +\n",
    "labs(title = \"Histograma de BMI (Body Mass Index)\",\n",
    "       x=\"BMI\",\n",
    "       y=\"Individuos\")"
   ]
  },
  {
   "cell_type": "markdown",
   "id": "1a186a72",
   "metadata": {},
   "source": [
    "*Se observa el histograma de la frecuencia del promedio de glucosa.*"
   ]
  },
  {
   "cell_type": "code",
   "execution_count": 19,
   "id": "74f95744",
   "metadata": {},
   "outputs": [
    {
     "data": {
      "image/png": "[encoded data removed]",
      "text/plain": [
       "plot without title"
      ]
     },
     "metadata": {
      "image/png": {
       "height": 420,
       "width": 420
      }
     },
     "output_type": "display_data"
    }
   ],
   "source": [
    "ggplot(data, aes(x = avg_glucose_level)) + geom_histogram(fill = '#C77CFF', col = 'black',bins = max(data$avg_glucose_level) ) +   \n",
    "labs(title = \"Histograma del promedio de glucosa\",\n",
    "       x=\"Glucosa\",\n",
    "       y=\"Individuos\")"
   ]
  },
  {
   "cell_type": "markdown",
   "id": "adfa9bef",
   "metadata": {},
   "source": [
    "*A continuación podemos observar la densidad empirica de derrames según la edad, se aprecia una clara tendencia que a mayor edad mayor cantidad de derrames.*"
   ]
  },
  {
   "cell_type": "code",
   "execution_count": 20,
   "id": "0056715b",
   "metadata": {},
   "outputs": [
    {
     "data": {
      "image/png": "[encoded data removed]",
      "text/plain": [
       "plot without title"
      ]
     },
     "metadata": {
      "image/png": {
       "height": 420,
       "width": 420
      }
     },
     "output_type": "display_data"
    }
   ],
   "source": [
    "ggplot(data, aes(x = age, fill = stroke_t))+ geom_density(alpha = 0.8) + \n",
    "  labs(title = \"Densidad empirica del derrame por edad\",\n",
    "       x=\"Edad\",\n",
    "       y=\"Densidad\") + scale_fill_discrete(name = \"Derrame\", labels = c(\"No\", \"Si\"))"
   ]
  },
  {
   "cell_type": "markdown",
   "id": "87965f48",
   "metadata": {},
   "source": [
    "*En el siguiente gráfico de barras se encuentra la cantidad de individuos por sexo, encontramos $2994$ mujeres y $2115$ hombres.*"
   ]
  },
  {
   "cell_type": "code",
   "execution_count": 21,
   "id": "59372992",
   "metadata": {},
   "outputs": [
    {
     "data": {
      "image/png": "[encoded data removed]",
      "text/plain": [
       "plot without title"
      ]
     },
     "metadata": {
      "image/png": {
       "height": 420,
       "width": 420
      }
     },
     "output_type": "display_data"
    }
   ],
   "source": [
    "ggplot(data = data, aes(x=gender,fill=gender))+geom_bar()+\n",
    "  labs(title = \"Número de personas según sexo\",\n",
    "       x=\"\",\n",
    "       y=\"Cantidad de personas\") + scale_fill_discrete(name = \"Sexo\", labels = c(\"Femenino\", \"Masculino\")) + \n",
    "       geom_text(stat='count', aes(label=..count..), vjust=-1)"
   ]
  },
  {
   "cell_type": "markdown",
   "id": "507f2880",
   "metadata": {},
   "source": [
    "*La cantidad de personas que han estado casadas alguna vez se encuentra en el siguiente gráfico de barras y se aprecia que es de $3353$ y los que no han estado casados nunca es de $1756$*"
   ]
  },
  {
   "cell_type": "code",
   "execution_count": 22,
   "id": "98b904cb",
   "metadata": {},
   "outputs": [
    {
     "data": {
      "image/png": "[encoded data removed]",
      "text/plain": [
       "plot without title"
      ]
     },
     "metadata": {
      "image/png": {
       "height": 420,
       "width": 420
      }
     },
     "output_type": "display_data"
    }
   ],
   "source": [
    "ggplot(data = data, aes(x=ever_married,fill=ever_married))+geom_bar() + \n",
    "  labs(title = \"¿Ha estado casado alguna vez?\",\n",
    "       x=\"\",\n",
    "       y=\"Cantidad de personas\") + scale_fill_discrete(name = \"Casado\", labels = c(\"No\", \"Si\")) + \n",
    "       geom_text(stat='count', aes(label=..count..), vjust=-1)"
   ]
  },
  {
   "cell_type": "markdown",
   "id": "1159de0d",
   "metadata": {},
   "source": [
    "*La cantidad de individuos del estudio que se encuentran en distintos trabajos lo podemos observar en el siguiente gráfico de barras. Podemos apreciar que existen $2924$ individuos que trabajan en alguna entidad privada, luego encontramos a $819$ personas independientes, los que poseen un trabajo de gobierno son $657$, se encuentra una cantidad de $687$ niños, y por último las personas del estudio que nunca han trabajado son $22$.*"
   ]
  },
  {
   "cell_type": "code",
   "execution_count": 23,
   "id": "8a3d51d2",
   "metadata": {},
   "outputs": [
    {
     "data": {
      "image/png": "[encoded data removed]",
      "text/plain": [
       "plot without title"
      ]
     },
     "metadata": {
      "image/png": {
       "height": 420,
       "width": 420
      }
     },
     "output_type": "display_data"
    }
   ],
   "source": [
    "ggplot(data = data, aes(x=work_type,fill=work_type))+geom_bar()+theme(axis.text.x =element_text(angle = 45) ) +\n",
    "scale_fill_discrete(name = \"Trabajo\", labels = c(\"Trabajo de Gobierno\",\"Privado\",\"Independiente\")) +  labs(title = \"Tipos de trabajo\",\n",
    "       x=\"\",\n",
    "       y=\"Cantidad de personas\") + \n",
    "       geom_text(stat='count', aes(label=..count..), vjust=-1)"
   ]
  },
  {
   "cell_type": "code",
   "execution_count": 24,
   "id": "9e3294c6",
   "metadata": {},
   "outputs": [],
   "source": [
    "# Datos no nivelados \n",
    "\n",
    "data$gender <- as.factor(data$gender)\n",
    "data$work_type <- as.factor(data$work_type)\n",
    "\n",
    "data$hypertension <- as.factor(data$hypertension)\n",
    "data$heart_disease <- as.factor(data$heart_disease)\n",
    "data$ever_married <- as.factor(data$ever_married)\n",
    "data$bmi <- as.numeric(data$bmi)\n",
    "data$stroke<-factor(data$stroke)"
   ]
  },
  {
   "cell_type": "code",
   "execution_count": 25,
   "id": "636b9a27",
   "metadata": {},
   "outputs": [
    {
     "data": {
      "text/plain": [
       "\n",
       "Call:\n",
       "glm(formula = stroke ~ gender + age + hypertension + heart_disease + \n",
       "    ever_married + avg_glucose_level + bmi, family = binomial(link = \"logit\"), \n",
       "    data = data)\n",
       "\n",
       "Deviance Residuals: \n",
       "    Min       1Q   Median       3Q      Max  \n",
       "-1.1651  -0.4757  -0.3423  -0.2641   2.7179  \n",
       "\n",
       "Coefficients:\n",
       "                                Estimate Std. Error z value Pr(>|z|)    \n",
       "(Intercept)                   -5.6341400  0.8143179  -6.919 4.55e-12 ***\n",
       "genderMale                     0.0223346  0.1601867   0.139  0.88911    \n",
       "age                            0.0557600  0.0085963   6.486 8.79e-11 ***\n",
       "hypertensionno hypertension   -0.5519599  0.1762335  -3.132  0.00174 ** \n",
       "heart_diseaseno heart disease -0.4252601  0.2056769  -2.068  0.03868 *  \n",
       "ever_marriedYes               -0.2213898  0.2676115  -0.827  0.40808    \n",
       "avg_glucose_level              0.0051652  0.0013233   3.903 9.48e-05 ***\n",
       "bmi                           -0.0004227  0.0013500  -0.313  0.75419    \n",
       "---\n",
       "Signif. codes:  0 '***' 0.001 '**' 0.01 '*' 0.05 '.' 0.1 ' ' 1\n",
       "\n",
       "(Dispersion parameter for binomial family taken to be 1)\n",
       "\n",
       "    Null deviance: 1278.0  on 2089  degrees of freedom\n",
       "Residual deviance: 1174.8  on 2082  degrees of freedom\n",
       "AIC: 1190.8\n",
       "\n",
       "Number of Fisher Scoring iterations: 5\n"
      ]
     },
     "metadata": {},
     "output_type": "display_data"
    },
    {
     "data": {
      "text/html": [
       "<style>\n",
       ".dl-inline {width: auto; margin:0; padding: 0}\n",
       ".dl-inline>dt, .dl-inline>dd {float: none; width: auto; display: inline-block}\n",
       ".dl-inline>dt::after {content: \":\\0020\"; padding-right: .5ex}\n",
       ".dl-inline>dt:not(:first-of-type) {padding-left: .5ex}\n",
       "</style><dl class=dl-inline><dt>(Intercept)</dt><dd>0.00357374932745815</dd><dt>genderMale</dt><dd>1.02258593391778</dd><dt>age</dt><dd>1.05734389829947</dd><dt>hypertensionno hypertension</dt><dd>0.575820166134983</dd><dt>heart_diseaseno heart disease</dt><dd>0.653599779800833</dd><dt>ever_marriedYes</dt><dd>0.801404235079188</dd><dt>avg_glucose_level</dt><dd>1.00517861134907</dd><dt>bmi</dt><dd>0.999577387521334</dd></dl>\n"
      ],
      "text/latex": [
       "\\begin{description*}\n",
       "\\item[(Intercept)] 0.00357374932745815\n",
       "\\item[genderMale] 1.02258593391778\n",
       "\\item[age] 1.05734389829947\n",
       "\\item[hypertensionno hypertension] 0.575820166134983\n",
       "\\item[heart\\textbackslash{}\\_diseaseno heart disease] 0.653599779800833\n",
       "\\item[ever\\textbackslash{}\\_marriedYes] 0.801404235079188\n",
       "\\item[avg\\textbackslash{}\\_glucose\\textbackslash{}\\_level] 1.00517861134907\n",
       "\\item[bmi] 0.999577387521334\n",
       "\\end{description*}\n"
      ],
      "text/markdown": [
       "(Intercept)\n",
       ":   0.00357374932745815genderMale\n",
       ":   1.02258593391778age\n",
       ":   1.05734389829947hypertensionno hypertension\n",
       ":   0.575820166134983heart_diseaseno heart disease\n",
       ":   0.653599779800833ever_marriedYes\n",
       ":   0.801404235079188avg_glucose_level\n",
       ":   1.00517861134907bmi\n",
       ":   0.999577387521334\n",
       "\n"
      ],
      "text/plain": [
       "                  (Intercept)                    genderMale \n",
       "                  0.003573749                   1.022585934 \n",
       "                          age   hypertensionno hypertension \n",
       "                  1.057343898                   0.575820166 \n",
       "heart_diseaseno heart disease               ever_marriedYes \n",
       "                  0.653599780                   0.801404235 \n",
       "            avg_glucose_level                           bmi \n",
       "                  1.005178611                   0.999577388 "
      ]
     },
     "metadata": {},
     "output_type": "display_data"
    }
   ],
   "source": [
    "stroke_original <- glm(stroke~ gender+age+hypertension+heart_disease+ever_married+avg_glucose_level+bmi,\n",
    "data=data, family = binomial(link = \"logit\"))\n",
    "summary(stroke_original)\n",
    "\n",
    "exp(coef(stroke_original))  # Razones de ventajas (\"odds ratios\")"
   ]
  },
  {
   "cell_type": "code",
   "execution_count": 26,
   "id": "b8749be0",
   "metadata": {},
   "outputs": [
    {
     "name": "stderr",
     "output_type": "stream",
     "text": [
      "Warning message in sqrt(diag(vc)[np]):\n",
      "\"Se han producido NaNs\"\n"
     ]
    },
    {
     "data": {
      "text/plain": [
       "\n",
       "Call:\n",
       "zeroinfl(formula = ifelse(as.numeric(data$stroke) == 1, 0, 1) ~ gender + \n",
       "    age + hypertension + heart_disease + ever_married + avg_glucose_level + \n",
       "    bmi, data = data, dist = \"negbin\")\n",
       "\n",
       "Pearson residuals:\n",
       "    Min      1Q  Median      3Q     Max \n",
       "-0.8500 -0.3230 -0.2399 -0.1879  8.5441 \n",
       "\n",
       "Count model coefficients (negbin with log link):\n",
       "                               Estimate Std. Error z value Pr(>|z|)    \n",
       "(Intercept)                   -4.701309   0.846281  -5.555 2.77e-08 ***\n",
       "genderMale                     0.020781   0.156856   0.132   0.8946    \n",
       "age                            0.041693   0.009237   4.513 6.38e-06 ***\n",
       "hypertensionno hypertension   -0.317968   0.171429  -1.855   0.0636 .  \n",
       "heart_diseaseno heart disease -0.257480   0.197883  -1.301   0.1932    \n",
       "ever_marriedYes               -0.365929   0.269089  -1.360   0.1739    \n",
       "avg_glucose_level              0.006246   0.001448   4.314 1.60e-05 ***\n",
       "bmi                           -0.002298   0.001470  -1.563   0.1180    \n",
       "Log(theta)                    23.327617         NA      NA       NA    \n",
       "\n",
       "Zero-inflation model coefficients (binomial with logit link):\n",
       "                              Estimate Std. Error z value Pr(>|z|)  \n",
       "(Intercept)                    5.01416    8.70765   0.576   0.5647  \n",
       "genderMale                     1.13051    1.50925   0.749   0.4538  \n",
       "age                           -0.20702    0.09356  -2.213   0.0269 *\n",
       "hypertensionno hypertension    9.41053    6.43537   1.462   0.1437  \n",
       "heart_diseaseno heart disease  2.37004    2.51934   0.941   0.3468  \n",
       "ever_marriedYes               -3.93751    2.44805  -1.608   0.1077  \n",
       "avg_glucose_level              0.04791    0.02060   2.326   0.0200 *\n",
       "bmi                           -0.06382    0.03421  -1.865   0.0621 .\n",
       "---\n",
       "Signif. codes:  0 '***' 0.001 '**' 0.01 '*' 0.05 '.' 0.1 ' ' 1 \n",
       "\n",
       "Theta = 13522451564.5922 \n",
       "Number of iterations in BFGS optimization: 67 \n",
       "Log-likelihood:  -596 on 17 Df"
      ]
     },
     "metadata": {},
     "output_type": "display_data"
    },
    {
     "data": {
      "text/html": [
       "<style>\n",
       ".dl-inline {width: auto; margin:0; padding: 0}\n",
       ".dl-inline>dt, .dl-inline>dd {float: none; width: auto; display: inline-block}\n",
       ".dl-inline>dt::after {content: \":\\0020\"; padding-right: .5ex}\n",
       ".dl-inline>dt:not(:first-of-type) {padding-left: .5ex}\n",
       "</style><dl class=dl-inline><dt>count_(Intercept)</dt><dd>0.00908338223595804</dd><dt>count_genderMale</dt><dd>1.02099834928611</dd><dt>count_age</dt><dd>1.04257401512545</dd><dt>count_hypertensionno hypertension</dt><dd>0.727625941820315</dd><dt>count_heart_diseaseno heart disease</dt><dd>0.772997211450972</dd><dt>count_ever_marriedYes</dt><dd>0.693551796548776</dd><dt>count_avg_glucose_level</dt><dd>1.00626601800606</dd><dt>count_bmi</dt><dd>0.997705003223476</dd><dt>zero_(Intercept)</dt><dd>150.529066715946</dd><dt>zero_genderMale</dt><dd>3.09724184463099</dd><dt>zero_age</dt><dd>0.813003913593548</dd><dt>zero_hypertensionno hypertension</dt><dd>12216.3577106717</dd><dt>zero_heart_diseaseno heart disease</dt><dd>10.6978722143965</dd><dt>zero_ever_marriedYes</dt><dd>0.0194967354298073</dd><dt>zero_avg_glucose_level</dt><dd>1.04908110706396</dd><dt>zero_bmi</dt><dd>0.938177031482641</dd></dl>\n"
      ],
      "text/latex": [
       "\\begin{description*}\n",
       "\\item[count\\textbackslash{}\\_(Intercept)] 0.00908338223595804\n",
       "\\item[count\\textbackslash{}\\_genderMale] 1.02099834928611\n",
       "\\item[count\\textbackslash{}\\_age] 1.04257401512545\n",
       "\\item[count\\textbackslash{}\\_hypertensionno hypertension] 0.727625941820315\n",
       "\\item[count\\textbackslash{}\\_heart\\textbackslash{}\\_diseaseno heart disease] 0.772997211450972\n",
       "\\item[count\\textbackslash{}\\_ever\\textbackslash{}\\_marriedYes] 0.693551796548776\n",
       "\\item[count\\textbackslash{}\\_avg\\textbackslash{}\\_glucose\\textbackslash{}\\_level] 1.00626601800606\n",
       "\\item[count\\textbackslash{}\\_bmi] 0.997705003223476\n",
       "\\item[zero\\textbackslash{}\\_(Intercept)] 150.529066715946\n",
       "\\item[zero\\textbackslash{}\\_genderMale] 3.09724184463099\n",
       "\\item[zero\\textbackslash{}\\_age] 0.813003913593548\n",
       "\\item[zero\\textbackslash{}\\_hypertensionno hypertension] 12216.3577106717\n",
       "\\item[zero\\textbackslash{}\\_heart\\textbackslash{}\\_diseaseno heart disease] 10.6978722143965\n",
       "\\item[zero\\textbackslash{}\\_ever\\textbackslash{}\\_marriedYes] 0.0194967354298073\n",
       "\\item[zero\\textbackslash{}\\_avg\\textbackslash{}\\_glucose\\textbackslash{}\\_level] 1.04908110706396\n",
       "\\item[zero\\textbackslash{}\\_bmi] 0.938177031482641\n",
       "\\end{description*}\n"
      ],
      "text/markdown": [
       "count_(Intercept)\n",
       ":   0.00908338223595804count_genderMale\n",
       ":   1.02099834928611count_age\n",
       ":   1.04257401512545count_hypertensionno hypertension\n",
       ":   0.727625941820315count_heart_diseaseno heart disease\n",
       ":   0.772997211450972count_ever_marriedYes\n",
       ":   0.693551796548776count_avg_glucose_level\n",
       ":   1.00626601800606count_bmi\n",
       ":   0.997705003223476zero_(Intercept)\n",
       ":   150.529066715946zero_genderMale\n",
       ":   3.09724184463099zero_age\n",
       ":   0.813003913593548zero_hypertensionno hypertension\n",
       ":   12216.3577106717zero_heart_diseaseno heart disease\n",
       ":   10.6978722143965zero_ever_marriedYes\n",
       ":   0.0194967354298073zero_avg_glucose_level\n",
       ":   1.04908110706396zero_bmi\n",
       ":   0.938177031482641\n",
       "\n"
      ],
      "text/plain": [
       "                  count_(Intercept)                    count_genderMale \n",
       "                       9.083382e-03                        1.020998e+00 \n",
       "                          count_age   count_hypertensionno hypertension \n",
       "                       1.042574e+00                        7.276259e-01 \n",
       "count_heart_diseaseno heart disease               count_ever_marriedYes \n",
       "                       7.729972e-01                        6.935518e-01 \n",
       "            count_avg_glucose_level                           count_bmi \n",
       "                       1.006266e+00                        9.977050e-01 \n",
       "                   zero_(Intercept)                     zero_genderMale \n",
       "                       1.505291e+02                        3.097242e+00 \n",
       "                           zero_age    zero_hypertensionno hypertension \n",
       "                       8.130039e-01                        1.221636e+04 \n",
       " zero_heart_diseaseno heart disease                zero_ever_marriedYes \n",
       "                       1.069787e+01                        1.949674e-02 \n",
       "             zero_avg_glucose_level                            zero_bmi \n",
       "                       1.049081e+00                        9.381770e-01 "
      ]
     },
     "metadata": {},
     "output_type": "display_data"
    }
   ],
   "source": [
    "model.zi = zeroinfl(ifelse(as.numeric(data$stroke)==1,0,1)~ gender+age+hypertension+heart_disease+\n",
    "               ever_married+avg_glucose_level+bmi,data=data,\n",
    "                    dist = \"negbin\")\n",
    "\n",
    "                       ### dist = \"negbin\" may be used\n",
    "\n",
    "summary(model.zi)\n",
    "exp(coef(model.zi))  # Razones de ventajas (\"odds ratios\")"
   ]
  },
  {
   "cell_type": "code",
   "execution_count": 27,
   "id": "75f05144",
   "metadata": {},
   "outputs": [
    {
     "name": "stderr",
     "output_type": "stream",
     "text": [
      "Warning message in theta.ml(Y, mu, sum(w), w, limit = control$maxit, trace = control$trace > :\n",
      "\"iteration limit reached\"\n",
      "Warning message in theta.ml(Y, mu, sum(w), w, limit = control$maxit, trace = control$trace > :\n",
      "\"iteration limit reached\"\n"
     ]
    },
    {
     "data": {
      "text/html": [
       "<style>\n",
       ".dl-inline {width: auto; margin:0; padding: 0}\n",
       ".dl-inline>dt, .dl-inline>dd {float: none; width: auto; display: inline-block}\n",
       ".dl-inline>dt::after {content: \":\\0020\"; padding-right: .5ex}\n",
       ".dl-inline>dt:not(:first-of-type) {padding-left: .5ex}\n",
       "</style><dl class=dl-inline><dt>(Intercept)</dt><dd>0.00438115374158446</dd><dt>genderMale</dt><dd>1.01817802116493</dd><dt>age</dt><dd>1.0507814125467</dd><dt>hypertensionno hypertension</dt><dd>0.629149766493498</dd><dt>heart_diseaseno heart disease</dt><dd>0.707646520954765</dd><dt>ever_marriedYes</dt><dd>0.83329541066325</dd><dt>avg_glucose_level</dt><dd>1.00439973496382</dd><dt>bmi</dt><dd>0.999695218674889</dd></dl>\n"
      ],
      "text/latex": [
       "\\begin{description*}\n",
       "\\item[(Intercept)] 0.00438115374158446\n",
       "\\item[genderMale] 1.01817802116493\n",
       "\\item[age] 1.0507814125467\n",
       "\\item[hypertensionno hypertension] 0.629149766493498\n",
       "\\item[heart\\textbackslash{}\\_diseaseno heart disease] 0.707646520954765\n",
       "\\item[ever\\textbackslash{}\\_marriedYes] 0.83329541066325\n",
       "\\item[avg\\textbackslash{}\\_glucose\\textbackslash{}\\_level] 1.00439973496382\n",
       "\\item[bmi] 0.999695218674889\n",
       "\\end{description*}\n"
      ],
      "text/markdown": [
       "(Intercept)\n",
       ":   0.00438115374158446genderMale\n",
       ":   1.01817802116493age\n",
       ":   1.0507814125467hypertensionno hypertension\n",
       ":   0.629149766493498heart_diseaseno heart disease\n",
       ":   0.707646520954765ever_marriedYes\n",
       ":   0.83329541066325avg_glucose_level\n",
       ":   1.00439973496382bmi\n",
       ":   0.999695218674889\n",
       "\n"
      ],
      "text/plain": [
       "                  (Intercept)                    genderMale \n",
       "                  0.004381154                   1.018178021 \n",
       "                          age   hypertensionno hypertension \n",
       "                  1.050781413                   0.629149766 \n",
       "heart_diseaseno heart disease               ever_marriedYes \n",
       "                  0.707646521                   0.833295411 \n",
       "            avg_glucose_level                           bmi \n",
       "                  1.004399735                   0.999695219 "
      ]
     },
     "metadata": {},
     "output_type": "display_data"
    }
   ],
   "source": [
    "blablablaa=glm.nb(ifelse(as.numeric(data$stroke)==1,0,1)~ gender+age+hypertension+heart_disease+\n",
    "               ever_married+avg_glucose_level+bmi,data=data)\n",
    "exp(coef(blablablaa))  # Razones de ventajas (\"odds ratios\")"
   ]
  },
  {
   "cell_type": "code",
   "execution_count": 28,
   "id": "39a91acc",
   "metadata": {},
   "outputs": [
    {
     "data": {
      "text/plain": [
       "\n",
       "Call:\n",
       "glm.nb(formula = ifelse(as.numeric(data$stroke) == 1, 0, 1) ~ \n",
       "    gender + age + hypertension + heart_disease + ever_married + \n",
       "        avg_glucose_level + bmi, data = data, init.theta = 1753.68888, \n",
       "    link = log)\n",
       "\n",
       "Deviance Residuals: \n",
       "    Min       1Q   Median       3Q      Max  \n",
       "-1.1098  -0.4564  -0.3383  -0.2684   2.2935  \n",
       "\n",
       "Coefficients:\n",
       "                                Estimate Std. Error z value Pr(>|z|)    \n",
       "(Intercept)                   -5.4304432  0.7630194  -7.117  1.1e-12 ***\n",
       "genderMale                     0.0180148  0.1482309   0.122  0.90327    \n",
       "age                            0.0495341  0.0080710   6.137  8.4e-10 ***\n",
       "hypertensionno hypertension   -0.4633859  0.1603781  -2.889  0.00386 ** \n",
       "heart_diseaseno heart disease -0.3458106  0.1847751  -1.872  0.06127 .  \n",
       "ever_marriedYes               -0.1823671  0.2431671  -0.750  0.45328    \n",
       "avg_glucose_level              0.0043901  0.0012115   3.624  0.00029 ***\n",
       "bmi                           -0.0003048  0.0012578  -0.242  0.80850    \n",
       "---\n",
       "Signif. codes:  0 '***' 0.001 '**' 0.01 '*' 0.05 '.' 0.1 ' ' 1\n",
       "\n",
       "(Dispersion parameter for Negative Binomial(1753.689) family taken to be 1)\n",
       "\n",
       "    Null deviance: 913.89  on 2089  degrees of freedom\n",
       "Residual deviance: 822.60  on 2082  degrees of freedom\n",
       "AIC: 1222.7\n",
       "\n",
       "Number of Fisher Scoring iterations: 1\n",
       "\n",
       "\n",
       "              Theta:  1754 \n",
       "          Std. Err.:  7792 \n",
       "Warning while fitting theta: iteration limit reached \n",
       "\n",
       " 2 x log-likelihood:  -1204.707 "
      ]
     },
     "metadata": {},
     "output_type": "display_data"
    }
   ],
   "source": [
    "summary(blablablaa)"
   ]
  },
  {
   "cell_type": "code",
   "execution_count": 29,
   "id": "d66bb132",
   "metadata": {},
   "outputs": [
    {
     "data": {
      "text/plain": [
       "   predicciones\n",
       "       0    1\n",
       "  0 1896    3\n",
       "  1  189    2"
      ]
     },
     "metadata": {},
     "output_type": "display_data"
    },
    {
     "data": {
      "text/html": [
       "0.908133971291866"
      ],
      "text/latex": [
       "0.908133971291866"
      ],
      "text/markdown": [
       "0.908133971291866"
      ],
      "text/plain": [
       "[1] 0.908134"
      ]
     },
     "metadata": {},
     "output_type": "display_data"
    },
    {
     "data": {
      "text/html": [
       "<style>\n",
       ".dl-inline {width: auto; margin:0; padding: 0}\n",
       ".dl-inline>dt, .dl-inline>dd {float: none; width: auto; display: inline-block}\n",
       ".dl-inline>dt::after {content: \":\\0020\"; padding-right: .5ex}\n",
       ".dl-inline>dt:not(:first-of-type) {padding-left: .5ex}\n",
       "</style><dl class=dl-inline><dt>count_(Intercept)</dt><dd>0.00908338223595804</dd><dt>count_genderMale</dt><dd>1.02099834928611</dd><dt>count_age</dt><dd>1.04257401512545</dd><dt>count_hypertensionno hypertension</dt><dd>0.727625941820315</dd><dt>count_heart_diseaseno heart disease</dt><dd>0.772997211450972</dd><dt>count_ever_marriedYes</dt><dd>0.693551796548776</dd><dt>count_avg_glucose_level</dt><dd>1.00626601800606</dd><dt>count_bmi</dt><dd>0.997705003223476</dd><dt>zero_(Intercept)</dt><dd>150.529066715946</dd><dt>zero_genderMale</dt><dd>3.09724184463099</dd><dt>zero_age</dt><dd>0.813003913593548</dd><dt>zero_hypertensionno hypertension</dt><dd>12216.3577106717</dd><dt>zero_heart_diseaseno heart disease</dt><dd>10.6978722143965</dd><dt>zero_ever_marriedYes</dt><dd>0.0194967354298073</dd><dt>zero_avg_glucose_level</dt><dd>1.04908110706396</dd><dt>zero_bmi</dt><dd>0.938177031482641</dd></dl>\n"
      ],
      "text/latex": [
       "\\begin{description*}\n",
       "\\item[count\\textbackslash{}\\_(Intercept)] 0.00908338223595804\n",
       "\\item[count\\textbackslash{}\\_genderMale] 1.02099834928611\n",
       "\\item[count\\textbackslash{}\\_age] 1.04257401512545\n",
       "\\item[count\\textbackslash{}\\_hypertensionno hypertension] 0.727625941820315\n",
       "\\item[count\\textbackslash{}\\_heart\\textbackslash{}\\_diseaseno heart disease] 0.772997211450972\n",
       "\\item[count\\textbackslash{}\\_ever\\textbackslash{}\\_marriedYes] 0.693551796548776\n",
       "\\item[count\\textbackslash{}\\_avg\\textbackslash{}\\_glucose\\textbackslash{}\\_level] 1.00626601800606\n",
       "\\item[count\\textbackslash{}\\_bmi] 0.997705003223476\n",
       "\\item[zero\\textbackslash{}\\_(Intercept)] 150.529066715946\n",
       "\\item[zero\\textbackslash{}\\_genderMale] 3.09724184463099\n",
       "\\item[zero\\textbackslash{}\\_age] 0.813003913593548\n",
       "\\item[zero\\textbackslash{}\\_hypertensionno hypertension] 12216.3577106717\n",
       "\\item[zero\\textbackslash{}\\_heart\\textbackslash{}\\_diseaseno heart disease] 10.6978722143965\n",
       "\\item[zero\\textbackslash{}\\_ever\\textbackslash{}\\_marriedYes] 0.0194967354298073\n",
       "\\item[zero\\textbackslash{}\\_avg\\textbackslash{}\\_glucose\\textbackslash{}\\_level] 1.04908110706396\n",
       "\\item[zero\\textbackslash{}\\_bmi] 0.938177031482641\n",
       "\\end{description*}\n"
      ],
      "text/markdown": [
       "count_(Intercept)\n",
       ":   0.00908338223595804count_genderMale\n",
       ":   1.02099834928611count_age\n",
       ":   1.04257401512545count_hypertensionno hypertension\n",
       ":   0.727625941820315count_heart_diseaseno heart disease\n",
       ":   0.772997211450972count_ever_marriedYes\n",
       ":   0.693551796548776count_avg_glucose_level\n",
       ":   1.00626601800606count_bmi\n",
       ":   0.997705003223476zero_(Intercept)\n",
       ":   150.529066715946zero_genderMale\n",
       ":   3.09724184463099zero_age\n",
       ":   0.813003913593548zero_hypertensionno hypertension\n",
       ":   12216.3577106717zero_heart_diseaseno heart disease\n",
       ":   10.6978722143965zero_ever_marriedYes\n",
       ":   0.0194967354298073zero_avg_glucose_level\n",
       ":   1.04908110706396zero_bmi\n",
       ":   0.938177031482641\n",
       "\n"
      ],
      "text/plain": [
       "                  count_(Intercept)                    count_genderMale \n",
       "                       9.083382e-03                        1.020998e+00 \n",
       "                          count_age   count_hypertensionno hypertension \n",
       "                       1.042574e+00                        7.276259e-01 \n",
       "count_heart_diseaseno heart disease               count_ever_marriedYes \n",
       "                       7.729972e-01                        6.935518e-01 \n",
       "            count_avg_glucose_level                           count_bmi \n",
       "                       1.006266e+00                        9.977050e-01 \n",
       "                   zero_(Intercept)                     zero_genderMale \n",
       "                       1.505291e+02                        3.097242e+00 \n",
       "                           zero_age    zero_hypertensionno hypertension \n",
       "                       8.130039e-01                        1.221636e+04 \n",
       " zero_heart_diseaseno heart disease                zero_ever_marriedYes \n",
       "                       1.069787e+01                        1.949674e-02 \n",
       "             zero_avg_glucose_level                            zero_bmi \n",
       "                       1.049081e+00                        9.381770e-01 "
      ]
     },
     "metadata": {},
     "output_type": "display_data"
    },
    {
     "data": {
      "image/png": "[encoded data removed]",
      "text/plain": [
       "plot without title"
      ]
     },
     "metadata": {
      "image/png": {
       "height": 420,
       "width": 420
      }
     },
     "output_type": "display_data"
    }
   ],
   "source": [
    "blablablaa=model.zi\n",
    "predicciones <- ifelse(test = blablablaa$fitted.values > 0.5, yes = 1, no = 0)\n",
    "matriz_confusion_original <- table(blablablaa$model[[1]], predicciones)\n",
    "\n",
    "nivel_po = (matriz_confusion_original[1,1]+matriz_confusion_original[2,2])/sum(matriz_confusion_original)\n",
    "matriz_confusion_original\n",
    "nivel_po\n",
    "plot(sort(predict(stroke_original,type = 'response')))\n",
    "exp(coef(blablablaa))  # Razones de ventajas (\"odds ratios\")"
   ]
  },
  {
   "cell_type": "code",
   "execution_count": 30,
   "id": "bd919155",
   "metadata": {},
   "outputs": [
    {
     "data": {
      "text/plain": [
       "             predicciones\n",
       "observaciones    0    1\n",
       "            0 1771  128\n",
       "            1  150   41"
      ]
     },
     "metadata": {},
     "output_type": "display_data"
    },
    {
     "data": {
      "text/html": [
       "0.866985645933014"
      ],
      "text/latex": [
       "0.866985645933014"
      ],
      "text/markdown": [
       "0.866985645933014"
      ],
      "text/plain": [
       "[1] 0.8669856"
      ]
     },
     "metadata": {},
     "output_type": "display_data"
    },
    {
     "data": {
      "image/png": "[encoded data removed]",
      "text/plain": [
       "plot without title"
      ]
     },
     "metadata": {
      "image/png": {
       "height": 420,
       "width": 420
      }
     },
     "output_type": "display_data"
    }
   ],
   "source": [
    "predicciones <- ifelse(test = stroke_original$fitted.values > 0.2, yes = 1, no = 0)\n",
    "matriz_confusion_original <- table(stroke_original$model$stroke, predicciones,\n",
    "                          dnn = c(\"observaciones\", \"predicciones\"))\n",
    "nivel_po = (matriz_confusion_original[1,1]+matriz_confusion_original[2,2])/sum(matriz_confusion_original)\n",
    "\n",
    "matriz_confusion_original\n",
    "nivel_po\n",
    "plot(sort(predict(stroke_original,type = 'response')))"
   ]
  },
  {
   "cell_type": "code",
   "execution_count": 31,
   "id": "99125596",
   "metadata": {},
   "outputs": [],
   "source": [
    "n=500\n",
    "strokes_s=data %>% filter(stroke == 1)\n",
    "ssy = sample_n(strokes_s, size = n,replace = TRUE)\n",
    "\n",
    "strokes_n=data %>% filter(stroke == 0)\n",
    "ssn = sample_n(strokes_n, size = n,replace = TRUE)"
   ]
  },
  {
   "cell_type": "code",
   "execution_count": 32,
   "id": "58084914",
   "metadata": {},
   "outputs": [],
   "source": [
    "newdata = rbind(ssy,ssn)\n",
    "newdata = data.frame(newdata)"
   ]
  },
  {
   "cell_type": "code",
   "execution_count": 33,
   "id": "b433aa99",
   "metadata": {
    "scrolled": false
   },
   "outputs": [
    {
     "data": {
      "text/html": [
       "<table class=\"dataframe\">\n",
       "<caption>A data.frame: 6 × 12</caption>\n",
       "<thead>\n",
       "\t<tr><th></th><th scope=col>gender</th><th scope=col>age</th><th scope=col>hypertension</th><th scope=col>heart_disease</th><th scope=col>ever_married</th><th scope=col>work_type</th><th scope=col>Residence_type</th><th scope=col>avg_glucose_level</th><th scope=col>bmi</th><th scope=col>smoking_status</th><th scope=col>stroke</th><th scope=col>stroke_t</th></tr>\n",
       "\t<tr><th></th><th scope=col>&lt;fct&gt;</th><th scope=col>&lt;dbl&gt;</th><th scope=col>&lt;fct&gt;</th><th scope=col>&lt;fct&gt;</th><th scope=col>&lt;fct&gt;</th><th scope=col>&lt;fct&gt;</th><th scope=col>&lt;fct&gt;</th><th scope=col>&lt;dbl&gt;</th><th scope=col>&lt;dbl&gt;</th><th scope=col>&lt;fct&gt;</th><th scope=col>&lt;fct&gt;</th><th scope=col>&lt;fct&gt;</th></tr>\n",
       "</thead>\n",
       "<tbody>\n",
       "\t<tr><th scope=row>1</th><td>Male  </td><td>56</td><td>hypertension   </td><td>no heart disease</td><td>Yes</td><td>Private      </td><td>Rural</td><td>249.31</td><td>232</td><td>never smoked   </td><td>1</td><td>stroke</td></tr>\n",
       "\t<tr><th scope=row>2</th><td>Male  </td><td>69</td><td>no hypertension</td><td>no heart disease</td><td>Yes</td><td>Private      </td><td>Rural</td><td> 93.81</td><td>159</td><td>Unknown        </td><td>1</td><td>stroke</td></tr>\n",
       "\t<tr><th scope=row>3</th><td>Female</td><td>81</td><td>no hypertension</td><td>no heart disease</td><td>Yes</td><td>Self-employed</td><td>Urban</td><td> 95.84</td><td> 89</td><td>never smoked   </td><td>1</td><td>stroke</td></tr>\n",
       "\t<tr><th scope=row>4</th><td>Male  </td><td>77</td><td>no hypertension</td><td>no heart disease</td><td>Yes</td><td>Self-employed</td><td>Rural</td><td>162.14</td><td>200</td><td>formerly smoked</td><td>1</td><td>stroke</td></tr>\n",
       "\t<tr><th scope=row>5</th><td>Male  </td><td>76</td><td>hypertension   </td><td>no heart disease</td><td>Yes</td><td>Private      </td><td>Rural</td><td>243.58</td><td>210</td><td>never smoked   </td><td>1</td><td>stroke</td></tr>\n",
       "\t<tr><th scope=row>6</th><td>Female</td><td>55</td><td>no hypertension</td><td>no heart disease</td><td>Yes</td><td>Self-employed</td><td>Rural</td><td> 92.98</td><td>130</td><td>never smoked   </td><td>1</td><td>stroke</td></tr>\n",
       "</tbody>\n",
       "</table>\n"
      ],
      "text/latex": [
       "A data.frame: 6 × 12\n",
       "\\begin{tabular}{r|llllllllllll}\n",
       "  & gender & age & hypertension & heart\\_disease & ever\\_married & work\\_type & Residence\\_type & avg\\_glucose\\_level & bmi & smoking\\_status & stroke & stroke\\_t\\\\\n",
       "  & <fct> & <dbl> & <fct> & <fct> & <fct> & <fct> & <fct> & <dbl> & <dbl> & <fct> & <fct> & <fct>\\\\\n",
       "\\hline\n",
       "\t1 & Male   & 56 & hypertension    & no heart disease & Yes & Private       & Rural & 249.31 & 232 & never smoked    & 1 & stroke\\\\\n",
       "\t2 & Male   & 69 & no hypertension & no heart disease & Yes & Private       & Rural &  93.81 & 159 & Unknown         & 1 & stroke\\\\\n",
       "\t3 & Female & 81 & no hypertension & no heart disease & Yes & Self-employed & Urban &  95.84 &  89 & never smoked    & 1 & stroke\\\\\n",
       "\t4 & Male   & 77 & no hypertension & no heart disease & Yes & Self-employed & Rural & 162.14 & 200 & formerly smoked & 1 & stroke\\\\\n",
       "\t5 & Male   & 76 & hypertension    & no heart disease & Yes & Private       & Rural & 243.58 & 210 & never smoked    & 1 & stroke\\\\\n",
       "\t6 & Female & 55 & no hypertension & no heart disease & Yes & Self-employed & Rural &  92.98 & 130 & never smoked    & 1 & stroke\\\\\n",
       "\\end{tabular}\n"
      ],
      "text/markdown": [
       "\n",
       "A data.frame: 6 × 12\n",
       "\n",
       "| <!--/--> | gender &lt;fct&gt; | age &lt;dbl&gt; | hypertension &lt;fct&gt; | heart_disease &lt;fct&gt; | ever_married &lt;fct&gt; | work_type &lt;fct&gt; | Residence_type &lt;fct&gt; | avg_glucose_level &lt;dbl&gt; | bmi &lt;dbl&gt; | smoking_status &lt;fct&gt; | stroke &lt;fct&gt; | stroke_t &lt;fct&gt; |\n",
       "|---|---|---|---|---|---|---|---|---|---|---|---|---|\n",
       "| 1 | Male   | 56 | hypertension    | no heart disease | Yes | Private       | Rural | 249.31 | 232 | never smoked    | 1 | stroke |\n",
       "| 2 | Male   | 69 | no hypertension | no heart disease | Yes | Private       | Rural |  93.81 | 159 | Unknown         | 1 | stroke |\n",
       "| 3 | Female | 81 | no hypertension | no heart disease | Yes | Self-employed | Urban |  95.84 |  89 | never smoked    | 1 | stroke |\n",
       "| 4 | Male   | 77 | no hypertension | no heart disease | Yes | Self-employed | Rural | 162.14 | 200 | formerly smoked | 1 | stroke |\n",
       "| 5 | Male   | 76 | hypertension    | no heart disease | Yes | Private       | Rural | 243.58 | 210 | never smoked    | 1 | stroke |\n",
       "| 6 | Female | 55 | no hypertension | no heart disease | Yes | Self-employed | Rural |  92.98 | 130 | never smoked    | 1 | stroke |\n",
       "\n"
      ],
      "text/plain": [
       "  gender age hypertension    heart_disease    ever_married work_type    \n",
       "1 Male   56  hypertension    no heart disease Yes          Private      \n",
       "2 Male   69  no hypertension no heart disease Yes          Private      \n",
       "3 Female 81  no hypertension no heart disease Yes          Self-employed\n",
       "4 Male   77  no hypertension no heart disease Yes          Self-employed\n",
       "5 Male   76  hypertension    no heart disease Yes          Private      \n",
       "6 Female 55  no hypertension no heart disease Yes          Self-employed\n",
       "  Residence_type avg_glucose_level bmi smoking_status  stroke stroke_t\n",
       "1 Rural          249.31            232 never smoked    1      stroke  \n",
       "2 Rural           93.81            159 Unknown         1      stroke  \n",
       "3 Urban           95.84             89 never smoked    1      stroke  \n",
       "4 Rural          162.14            200 formerly smoked 1      stroke  \n",
       "5 Rural          243.58            210 never smoked    1      stroke  \n",
       "6 Rural           92.98            130 never smoked    1      stroke  "
      ]
     },
     "metadata": {},
     "output_type": "display_data"
    }
   ],
   "source": [
    "head(newdata)"
   ]
  },
  {
   "cell_type": "code",
   "execution_count": 34,
   "id": "c2a6be10",
   "metadata": {},
   "outputs": [
    {
     "data": {
      "text/plain": [
       "\n",
       "Call:\n",
       "glm(formula = stroke ~ gender + age + hypertension + heart_disease + \n",
       "    ever_married + work_type + Residence_type + avg_glucose_level + \n",
       "    bmi + smoking_status, family = binomial(link = \"logit\"), \n",
       "    data = newdata)\n",
       "\n",
       "Deviance Residuals: \n",
       "    Min       1Q   Median       3Q      Max  \n",
       "-2.4481  -0.9653  -0.0734   0.9715   2.0183  \n",
       "\n",
       "Coefficients:\n",
       "                                Estimate Std. Error z value Pr(>|z|)    \n",
       "(Intercept)                   -3.7980934  0.7924391  -4.793 1.64e-06 ***\n",
       "genderMale                     0.0448683  0.1479913   0.303 0.761751    \n",
       "age                            0.0686401  0.0081814   8.390  < 2e-16 ***\n",
       "hypertensionno hypertension   -0.6129419  0.1724323  -3.555 0.000378 ***\n",
       "heart_diseaseno heart disease -0.5987890  0.2217505  -2.700 0.006928 ** \n",
       "ever_marriedYes               -0.6124454  0.2787978  -2.197 0.028039 *  \n",
       "work_typePrivate              -0.1059610  0.2142607  -0.495 0.620923    \n",
       "work_typeSelf-employed        -0.2939836  0.2392927  -1.229 0.219240    \n",
       "Residence_typeUrban           -0.2396658  0.1426008  -1.681 0.092826 .  \n",
       "avg_glucose_level              0.0078663  0.0013246   5.939 2.88e-09 ***\n",
       "bmi                            0.0003201  0.0012247   0.261 0.793793    \n",
       "smoking_statusnever smoked    -0.2701799  0.1762200  -1.533 0.125227    \n",
       "smoking_statussmokes           0.2123431  0.2329336   0.912 0.361978    \n",
       "smoking_statusUnknown         -0.1154246  0.2224953  -0.519 0.603919    \n",
       "---\n",
       "Signif. codes:  0 '***' 0.001 '**' 0.01 '*' 0.05 '.' 0.1 ' ' 1\n",
       "\n",
       "(Dispersion parameter for binomial family taken to be 1)\n",
       "\n",
       "    Null deviance: 1386.3  on 999  degrees of freedom\n",
       "Residual deviance: 1174.6  on 986  degrees of freedom\n",
       "AIC: 1202.6\n",
       "\n",
       "Number of Fisher Scoring iterations: 4\n"
      ]
     },
     "metadata": {},
     "output_type": "display_data"
    },
    {
     "data": {
      "text/html": [
       "<style>\n",
       ".dl-inline {width: auto; margin:0; padding: 0}\n",
       ".dl-inline>dt, .dl-inline>dd {float: none; width: auto; display: inline-block}\n",
       ".dl-inline>dt::after {content: \":\\0020\"; padding-right: .5ex}\n",
       ".dl-inline>dt:not(:first-of-type) {padding-left: .5ex}\n",
       "</style><dl class=dl-inline><dt>(Intercept)</dt><dd>0.0224134655885327</dd><dt>genderMale</dt><dd>1.04589011959894</dd><dt>age</dt><dd>1.0710506437279</dd><dt>hypertensionno hypertension</dt><dd>0.541754711036369</dd><dt>heart_diseaseno heart disease</dt><dd>0.54947667419359</dd><dt>ever_marriedYes</dt><dd>0.542023781171606</dd><dt>work_typePrivate</dt><dd>0.899459750442365</dd><dt>work_typeSelf-employed</dt><dd>0.74528874644476</dd><dt>Residence_typeUrban</dt><dd>0.786890781050014</dd><dt>avg_glucose_level</dt><dd>1.00789731135194</dd><dt>bmi</dt><dd>1.00032017198811</dd><dt>smoking_statusnever smoked</dt><dd>0.763242177953193</dd><dt>smoking_statussmokes</dt><dd>1.23657208961496</dd><dt>smoking_statusUnknown</dt><dd>0.890987747454187</dd></dl>\n"
      ],
      "text/latex": [
       "\\begin{description*}\n",
       "\\item[(Intercept)] 0.0224134655885327\n",
       "\\item[genderMale] 1.04589011959894\n",
       "\\item[age] 1.0710506437279\n",
       "\\item[hypertensionno hypertension] 0.541754711036369\n",
       "\\item[heart\\textbackslash{}\\_diseaseno heart disease] 0.54947667419359\n",
       "\\item[ever\\textbackslash{}\\_marriedYes] 0.542023781171606\n",
       "\\item[work\\textbackslash{}\\_typePrivate] 0.899459750442365\n",
       "\\item[work\\textbackslash{}\\_typeSelf-employed] 0.74528874644476\n",
       "\\item[Residence\\textbackslash{}\\_typeUrban] 0.786890781050014\n",
       "\\item[avg\\textbackslash{}\\_glucose\\textbackslash{}\\_level] 1.00789731135194\n",
       "\\item[bmi] 1.00032017198811\n",
       "\\item[smoking\\textbackslash{}\\_statusnever smoked] 0.763242177953193\n",
       "\\item[smoking\\textbackslash{}\\_statussmokes] 1.23657208961496\n",
       "\\item[smoking\\textbackslash{}\\_statusUnknown] 0.890987747454187\n",
       "\\end{description*}\n"
      ],
      "text/markdown": [
       "(Intercept)\n",
       ":   0.0224134655885327genderMale\n",
       ":   1.04589011959894age\n",
       ":   1.0710506437279hypertensionno hypertension\n",
       ":   0.541754711036369heart_diseaseno heart disease\n",
       ":   0.54947667419359ever_marriedYes\n",
       ":   0.542023781171606work_typePrivate\n",
       ":   0.899459750442365work_typeSelf-employed\n",
       ":   0.74528874644476Residence_typeUrban\n",
       ":   0.786890781050014avg_glucose_level\n",
       ":   1.00789731135194bmi\n",
       ":   1.00032017198811smoking_statusnever smoked\n",
       ":   0.763242177953193smoking_statussmokes\n",
       ":   1.23657208961496smoking_statusUnknown\n",
       ":   0.890987747454187\n",
       "\n"
      ],
      "text/plain": [
       "                  (Intercept)                    genderMale \n",
       "                   0.02241347                    1.04589012 \n",
       "                          age   hypertensionno hypertension \n",
       "                   1.07105064                    0.54175471 \n",
       "heart_diseaseno heart disease               ever_marriedYes \n",
       "                   0.54947667                    0.54202378 \n",
       "             work_typePrivate        work_typeSelf-employed \n",
       "                   0.89945975                    0.74528875 \n",
       "          Residence_typeUrban             avg_glucose_level \n",
       "                   0.78689078                    1.00789731 \n",
       "                          bmi    smoking_statusnever smoked \n",
       "                   1.00032017                    0.76324218 \n",
       "         smoking_statussmokes         smoking_statusUnknown \n",
       "                   1.23657209                    0.89098775 "
      ]
     },
     "metadata": {},
     "output_type": "display_data"
    }
   ],
   "source": [
    "stroke_balanceado_todo <- glm(stroke~gender+age+hypertension+heart_disease+ever_married+work_type+Residence_type+\n",
    "                              avg_glucose_level+bmi+smoking_status,data=newdata, family = binomial(link = \"logit\"))\n",
    "summary(stroke_balanceado_todo)\n",
    "exp(coef(stroke_balanceado_todo))  # Razones de ventajas (\"odds ratios\")"
   ]
  },
  {
   "cell_type": "code",
   "execution_count": 35,
   "id": "267bc7b5",
   "metadata": {},
   "outputs": [
    {
     "data": {
      "text/plain": [
       "\n",
       "Call:\n",
       "glm(formula = stroke ~ age + hypertension + heart_disease + ever_married + \n",
       "    avg_glucose_level, family = binomial(link = \"logit\"), data = newdata)\n",
       "\n",
       "Deviance Residuals: \n",
       "     Min        1Q    Median        3Q       Max  \n",
       "-2.30030  -0.95831  -0.09314   0.98180   1.92502  \n",
       "\n",
       "Coefficients:\n",
       "                               Estimate Std. Error z value Pr(>|z|)    \n",
       "(Intercept)                   -3.753948   0.650750  -5.769 7.99e-09 ***\n",
       "age                            0.063157   0.007382   8.556  < 2e-16 ***\n",
       "hypertensionno hypertension   -0.566261   0.167696  -3.377 0.000734 ***\n",
       "heart_diseaseno heart disease -0.696492   0.215447  -3.233 0.001226 ** \n",
       "ever_marriedYes               -0.523434   0.273110  -1.917 0.055293 .  \n",
       "avg_glucose_level              0.007955   0.001245   6.388 1.68e-10 ***\n",
       "---\n",
       "Signif. codes:  0 '***' 0.001 '**' 0.01 '*' 0.05 '.' 0.1 ' ' 1\n",
       "\n",
       "(Dispersion parameter for binomial family taken to be 1)\n",
       "\n",
       "    Null deviance: 1386.3  on 999  degrees of freedom\n",
       "Residual deviance: 1184.9  on 994  degrees of freedom\n",
       "AIC: 1196.9\n",
       "\n",
       "Number of Fisher Scoring iterations: 4\n"
      ]
     },
     "metadata": {},
     "output_type": "display_data"
    }
   ],
   "source": [
    "stroke_balanceado_1 <- glm(stroke~ age+hypertension+heart_disease+ever_married+avg_glucose_level,\n",
    "data=newdata, family = binomial(link = \"logit\"))\n",
    "summary(stroke_balanceado_1)\n",
    "  # Razones de ventajas (\"odds ratios\")"
   ]
  },
  {
   "cell_type": "code",
   "execution_count": 36,
   "id": "0d234fbb",
   "metadata": {},
   "outputs": [
    {
     "data": {
      "image/png": "[encoded data removed]",
      "text/plain": [
       "Plot with title \"\""
      ]
     },
     "metadata": {
      "image/png": {
       "height": 420,
       "width": 420
      }
     },
     "output_type": "display_data"
    }
   ],
   "source": [
    "\n",
    "# Código\n",
    "plot(stroke_balanceado_1, which = 4, id.n = 8)\n",
    "\n",
    "\n",
    "\n"
   ]
  },
  {
   "cell_type": "code",
   "execution_count": 37,
   "id": "749e13cc",
   "metadata": {},
   "outputs": [
    {
     "data": {
      "image/png": "[encoded data removed]",
      "text/plain": [
       "plot without title"
      ]
     },
     "metadata": {
      "image/png": {
       "height": 420,
       "width": 420
      }
     },
     "output_type": "display_data"
    }
   ],
   "source": [
    "ROC( form=stroke~ age+hypertension+heart_disease+ever_married+avg_glucose_level,\n",
    "data=newdata,plot=\"ROC\")"
   ]
  },
  {
   "cell_type": "code",
   "execution_count": 38,
   "id": "45beef79",
   "metadata": {},
   "outputs": [
    {
     "data": {
      "text/html": [
       "<style>\n",
       ".dl-inline {width: auto; margin:0; padding: 0}\n",
       ".dl-inline>dt, .dl-inline>dd {float: none; width: auto; display: inline-block}\n",
       ".dl-inline>dt::after {content: \":\\0020\"; padding-right: .5ex}\n",
       ".dl-inline>dt:not(:first-of-type) {padding-left: .5ex}\n",
       "</style><dl class=dl-inline><dt>(Intercept)</dt><dd>0.02342508523029</dd><dt>age</dt><dd>1.06519451173797</dd><dt>hypertensionno hypertension</dt><dd>0.567644117637553</dd><dt>heart_diseaseno heart disease</dt><dd>0.498330360163595</dd><dt>ever_marriedYes</dt><dd>0.59248245207801</dd><dt>avg_glucose_level</dt><dd>1.00798681853804</dd></dl>\n"
      ],
      "text/latex": [
       "\\begin{description*}\n",
       "\\item[(Intercept)] 0.02342508523029\n",
       "\\item[age] 1.06519451173797\n",
       "\\item[hypertensionno hypertension] 0.567644117637553\n",
       "\\item[heart\\textbackslash{}\\_diseaseno heart disease] 0.498330360163595\n",
       "\\item[ever\\textbackslash{}\\_marriedYes] 0.59248245207801\n",
       "\\item[avg\\textbackslash{}\\_glucose\\textbackslash{}\\_level] 1.00798681853804\n",
       "\\end{description*}\n"
      ],
      "text/markdown": [
       "(Intercept)\n",
       ":   0.02342508523029age\n",
       ":   1.06519451173797hypertensionno hypertension\n",
       ":   0.567644117637553heart_diseaseno heart disease\n",
       ":   0.498330360163595ever_marriedYes\n",
       ":   0.59248245207801avg_glucose_level\n",
       ":   1.00798681853804\n",
       "\n"
      ],
      "text/plain": [
       "                  (Intercept)                           age \n",
       "                   0.02342509                    1.06519451 \n",
       "  hypertensionno hypertension heart_diseaseno heart disease \n",
       "                   0.56764412                    0.49833036 \n",
       "              ever_marriedYes             avg_glucose_level \n",
       "                   0.59248245                    1.00798682 "
      ]
     },
     "metadata": {},
     "output_type": "display_data"
    }
   ],
   "source": [
    "exp(coef(stroke_balanceado_1))"
   ]
  },
  {
   "cell_type": "code",
   "execution_count": 39,
   "id": "4b20e164",
   "metadata": {},
   "outputs": [
    {
     "data": {
      "text/plain": [
       "\n",
       "Call:\n",
       "glm(formula = stroke ~ age + hypertension * ever_married + avg_glucose_level + \n",
       "    heart_disease, family = binomial(link = \"logit\"), data = newdata)\n",
       "\n",
       "Deviance Residuals: \n",
       "    Min       1Q   Median       3Q      Max  \n",
       "-2.2839  -0.9585  -0.0909   0.9826   1.9206  \n",
       "\n",
       "Coefficients:\n",
       "                                             Estimate Std. Error z value\n",
       "(Intercept)                                 -3.526631   0.720294  -4.896\n",
       "age                                          0.063294   0.007389   8.566\n",
       "hypertensionno hypertension                 -0.960342   0.545007  -1.762\n",
       "ever_marriedYes                             -0.797253   0.458243  -1.740\n",
       "avg_glucose_level                            0.007931   0.001245   6.369\n",
       "heart_diseaseno heart disease               -0.688157   0.215761  -3.189\n",
       "hypertensionno hypertension:ever_marriedYes  0.436524   0.572606   0.762\n",
       "                                            Pr(>|z|)    \n",
       "(Intercept)                                 9.78e-07 ***\n",
       "age                                          < 2e-16 ***\n",
       "hypertensionno hypertension                  0.07806 .  \n",
       "ever_marriedYes                              0.08189 .  \n",
       "avg_glucose_level                           1.90e-10 ***\n",
       "heart_diseaseno heart disease                0.00143 ** \n",
       "hypertensionno hypertension:ever_marriedYes  0.44585    \n",
       "---\n",
       "Signif. codes:  0 '***' 0.001 '**' 0.01 '*' 0.05 '.' 0.1 ' ' 1\n",
       "\n",
       "(Dispersion parameter for binomial family taken to be 1)\n",
       "\n",
       "    Null deviance: 1386.3  on 999  degrees of freedom\n",
       "Residual deviance: 1184.3  on 993  degrees of freedom\n",
       "AIC: 1198.3\n",
       "\n",
       "Number of Fisher Scoring iterations: 4\n"
      ]
     },
     "metadata": {},
     "output_type": "display_data"
    },
    {
     "data": {
      "text/html": [
       "<style>\n",
       ".dl-inline {width: auto; margin:0; padding: 0}\n",
       ".dl-inline>dt, .dl-inline>dd {float: none; width: auto; display: inline-block}\n",
       ".dl-inline>dt::after {content: \":\\0020\"; padding-right: .5ex}\n",
       ".dl-inline>dt:not(:first-of-type) {padding-left: .5ex}\n",
       "</style><dl class=dl-inline><dt>(Intercept)</dt><dd>0.0294038176494036</dd><dt>age</dt><dd>1.06533986190373</dd><dt>hypertensionno hypertension</dt><dd>0.382762017522372</dd><dt>ever_marriedYes</dt><dd>0.450564785510749</dd><dt>avg_glucose_level</dt><dd>1.00796271475113</dd><dt>heart_diseaseno heart disease</dt><dd>0.502501326536521</dd><dt>hypertensionno hypertension:ever_marriedYes</dt><dd>1.54731865244467</dd></dl>\n"
      ],
      "text/latex": [
       "\\begin{description*}\n",
       "\\item[(Intercept)] 0.0294038176494036\n",
       "\\item[age] 1.06533986190373\n",
       "\\item[hypertensionno hypertension] 0.382762017522372\n",
       "\\item[ever\\textbackslash{}\\_marriedYes] 0.450564785510749\n",
       "\\item[avg\\textbackslash{}\\_glucose\\textbackslash{}\\_level] 1.00796271475113\n",
       "\\item[heart\\textbackslash{}\\_diseaseno heart disease] 0.502501326536521\n",
       "\\item[hypertensionno hypertension:ever\\textbackslash{}\\_marriedYes] 1.54731865244467\n",
       "\\end{description*}\n"
      ],
      "text/markdown": [
       "(Intercept)\n",
       ":   0.0294038176494036age\n",
       ":   1.06533986190373hypertensionno hypertension\n",
       ":   0.382762017522372ever_marriedYes\n",
       ":   0.450564785510749avg_glucose_level\n",
       ":   1.00796271475113heart_diseaseno heart disease\n",
       ":   0.502501326536521hypertensionno hypertension:ever_marriedYes\n",
       ":   1.54731865244467\n",
       "\n"
      ],
      "text/plain": [
       "                                (Intercept) \n",
       "                                 0.02940382 \n",
       "                                        age \n",
       "                                 1.06533986 \n",
       "                hypertensionno hypertension \n",
       "                                 0.38276202 \n",
       "                            ever_marriedYes \n",
       "                                 0.45056479 \n",
       "                          avg_glucose_level \n",
       "                                 1.00796271 \n",
       "              heart_diseaseno heart disease \n",
       "                                 0.50250133 \n",
       "hypertensionno hypertension:ever_marriedYes \n",
       "                                 1.54731865 "
      ]
     },
     "metadata": {},
     "output_type": "display_data"
    }
   ],
   "source": [
    "modelo_interaccion_Hiper_Casado <- glm(stroke~ age+hypertension*ever_married+avg_glucose_level+heart_disease,\n",
    "data=newdata, family = binomial(link = \"logit\"))\n",
    "summary(modelo_interaccion_Hiper_Casado)\n",
    "exp(coef(modelo_interaccion_Hiper_Casado))  # Razones de ventajas (\"odds ratios\")"
   ]
  },
  {
   "cell_type": "code",
   "execution_count": 40,
   "id": "903c6ffc",
   "metadata": {},
   "outputs": [
    {
     "data": {
      "text/plain": [
       "\n",
       "Call:\n",
       "glm(formula = stroke ~ age + hypertension * avg_glucose_level + \n",
       "    heart_disease + ever_married, family = binomial(link = \"logit\"), \n",
       "    data = newdata)\n",
       "\n",
       "Deviance Residuals: \n",
       "     Min        1Q    Median        3Q       Max  \n",
       "-2.29612  -0.95836  -0.09172   0.97962   1.92593  \n",
       "\n",
       "Coefficients:\n",
       "                                                Estimate Std. Error z value\n",
       "(Intercept)                                   -3.7388847  0.7072548  -5.286\n",
       "age                                            0.0631418  0.0073874   8.547\n",
       "hypertensionno hypertension                   -0.5859232  0.3986776  -1.470\n",
       "avg_glucose_level                              0.0078440  0.0023919   3.279\n",
       "heart_diseaseno heart disease                 -0.6957920  0.2158456  -3.224\n",
       "ever_marriedYes                               -0.5233799  0.2731233  -1.916\n",
       "hypertensionno hypertension:avg_glucose_level  0.0001517  0.0027895   0.054\n",
       "                                              Pr(>|z|)    \n",
       "(Intercept)                                   1.25e-07 ***\n",
       "age                                            < 2e-16 ***\n",
       "hypertensionno hypertension                    0.14165    \n",
       "avg_glucose_level                              0.00104 ** \n",
       "heart_diseaseno heart disease                  0.00127 ** \n",
       "ever_marriedYes                                0.05533 .  \n",
       "hypertensionno hypertension:avg_glucose_level  0.95664    \n",
       "---\n",
       "Signif. codes:  0 '***' 0.001 '**' 0.01 '*' 0.05 '.' 0.1 ' ' 1\n",
       "\n",
       "(Dispersion parameter for binomial family taken to be 1)\n",
       "\n",
       "    Null deviance: 1386.3  on 999  degrees of freedom\n",
       "Residual deviance: 1184.9  on 993  degrees of freedom\n",
       "AIC: 1198.9\n",
       "\n",
       "Number of Fisher Scoring iterations: 4\n"
      ]
     },
     "metadata": {},
     "output_type": "display_data"
    },
    {
     "data": {
      "text/html": [
       "<style>\n",
       ".dl-inline {width: auto; margin:0; padding: 0}\n",
       ".dl-inline>dt, .dl-inline>dd {float: none; width: auto; display: inline-block}\n",
       ".dl-inline>dt::after {content: \":\\0020\"; padding-right: .5ex}\n",
       ".dl-inline>dt:not(:first-of-type) {padding-left: .5ex}\n",
       "</style><dl class=dl-inline><dt>(Intercept)</dt><dd>0.0237806104073411</dd><dt>age</dt><dd>1.06517791163685</dd><dt>hypertensionno hypertension</dt><dd>0.556591793296717</dd><dt>avg_glucose_level</dt><dd>1.00787484034997</dd><dt>heart_diseaseno heart disease</dt><dd>0.498679362209933</dd><dt>ever_marriedYes</dt><dd>0.592514532192248</dd><dt>hypertensionno hypertension:avg_glucose_level</dt><dd>1.00015169210795</dd></dl>\n"
      ],
      "text/latex": [
       "\\begin{description*}\n",
       "\\item[(Intercept)] 0.0237806104073411\n",
       "\\item[age] 1.06517791163685\n",
       "\\item[hypertensionno hypertension] 0.556591793296717\n",
       "\\item[avg\\textbackslash{}\\_glucose\\textbackslash{}\\_level] 1.00787484034997\n",
       "\\item[heart\\textbackslash{}\\_diseaseno heart disease] 0.498679362209933\n",
       "\\item[ever\\textbackslash{}\\_marriedYes] 0.592514532192248\n",
       "\\item[hypertensionno hypertension:avg\\textbackslash{}\\_glucose\\textbackslash{}\\_level] 1.00015169210795\n",
       "\\end{description*}\n"
      ],
      "text/markdown": [
       "(Intercept)\n",
       ":   0.0237806104073411age\n",
       ":   1.06517791163685hypertensionno hypertension\n",
       ":   0.556591793296717avg_glucose_level\n",
       ":   1.00787484034997heart_diseaseno heart disease\n",
       ":   0.498679362209933ever_marriedYes\n",
       ":   0.592514532192248hypertensionno hypertension:avg_glucose_level\n",
       ":   1.00015169210795\n",
       "\n"
      ],
      "text/plain": [
       "                                  (Intercept) \n",
       "                                   0.02378061 \n",
       "                                          age \n",
       "                                   1.06517791 \n",
       "                  hypertensionno hypertension \n",
       "                                   0.55659179 \n",
       "                            avg_glucose_level \n",
       "                                   1.00787484 \n",
       "                heart_diseaseno heart disease \n",
       "                                   0.49867936 \n",
       "                              ever_marriedYes \n",
       "                                   0.59251453 \n",
       "hypertensionno hypertension:avg_glucose_level \n",
       "                                   1.00015169 "
      ]
     },
     "metadata": {},
     "output_type": "display_data"
    }
   ],
   "source": [
    "modelo_interaccion_Hiper_Glucosa <- glm(stroke~ age+hypertension*avg_glucose_level+heart_disease+ever_married,\n",
    "data=newdata, family = binomial(link = \"logit\"))\n",
    "summary(modelo_interaccion_Hiper_Glucosa)\n",
    "exp(coef(modelo_interaccion_Hiper_Glucosa))  # Razones de ventajas (\"odds ratios\")"
   ]
  },
  {
   "cell_type": "code",
   "execution_count": 41,
   "id": "cff93809",
   "metadata": {},
   "outputs": [
    {
     "data": {
      "text/plain": [
       "\n",
       "Call:\n",
       "glm(formula = stroke ~ age + hypertension + avg_glucose_level + \n",
       "    heart_disease * ever_married, family = binomial(link = \"logit\"), \n",
       "    data = newdata)\n",
       "\n",
       "Deviance Residuals: \n",
       "     Min        1Q    Median        3Q       Max  \n",
       "-2.29100  -0.95979  -0.09771   0.98880   1.92301  \n",
       "\n",
       "Coefficients:\n",
       "                                               Estimate Std. Error z value\n",
       "(Intercept)                                   -3.323181   1.206940  -2.753\n",
       "age                                            0.063137   0.007380   8.556\n",
       "hypertensionno hypertension                   -0.561705   0.168067  -3.342\n",
       "avg_glucose_level                              0.007946   0.001246   6.378\n",
       "heart_diseaseno heart disease                 -1.159974   1.102428  -1.052\n",
       "ever_marriedYes                               -0.973614   1.089852  -0.893\n",
       "heart_diseaseno heart disease:ever_marriedYes  0.484580   1.123336   0.431\n",
       "                                              Pr(>|z|)    \n",
       "(Intercept)                                   0.005898 ** \n",
       "age                                            < 2e-16 ***\n",
       "hypertensionno hypertension                   0.000831 ***\n",
       "avg_glucose_level                             1.79e-10 ***\n",
       "heart_diseaseno heart disease                 0.292708    \n",
       "ever_marriedYes                               0.371672    \n",
       "heart_diseaseno heart disease:ever_marriedYes 0.666195    \n",
       "---\n",
       "Signif. codes:  0 '***' 0.001 '**' 0.01 '*' 0.05 '.' 0.1 ' ' 1\n",
       "\n",
       "(Dispersion parameter for binomial family taken to be 1)\n",
       "\n",
       "    Null deviance: 1386.3  on 999  degrees of freedom\n",
       "Residual deviance: 1184.7  on 993  degrees of freedom\n",
       "AIC: 1198.7\n",
       "\n",
       "Number of Fisher Scoring iterations: 4\n"
      ]
     },
     "metadata": {},
     "output_type": "display_data"
    },
    {
     "data": {
      "text/html": [
       "<style>\n",
       ".dl-inline {width: auto; margin:0; padding: 0}\n",
       ".dl-inline>dt, .dl-inline>dd {float: none; width: auto; display: inline-block}\n",
       ".dl-inline>dt::after {content: \":\\0020\"; padding-right: .5ex}\n",
       ".dl-inline>dt:not(:first-of-type) {padding-left: .5ex}\n",
       "</style><dl class=dl-inline><dt>(Intercept)</dt><dd>0.0360380293167604</dd><dt>age</dt><dd>1.06517245610419</dd><dt>hypertensionno hypertension</dt><dd>0.570236102343239</dd><dt>avg_glucose_level</dt><dd>1.00797796298311</dd><dt>heart_diseaseno heart disease</dt><dd>0.31349424550766</dd><dt>ever_marriedYes</dt><dd>0.37771537725968</dd><dt>heart_diseaseno heart disease:ever_marriedYes</dt><dd>1.62349347366509</dd></dl>\n"
      ],
      "text/latex": [
       "\\begin{description*}\n",
       "\\item[(Intercept)] 0.0360380293167604\n",
       "\\item[age] 1.06517245610419\n",
       "\\item[hypertensionno hypertension] 0.570236102343239\n",
       "\\item[avg\\textbackslash{}\\_glucose\\textbackslash{}\\_level] 1.00797796298311\n",
       "\\item[heart\\textbackslash{}\\_diseaseno heart disease] 0.31349424550766\n",
       "\\item[ever\\textbackslash{}\\_marriedYes] 0.37771537725968\n",
       "\\item[heart\\textbackslash{}\\_diseaseno heart disease:ever\\textbackslash{}\\_marriedYes] 1.62349347366509\n",
       "\\end{description*}\n"
      ],
      "text/markdown": [
       "(Intercept)\n",
       ":   0.0360380293167604age\n",
       ":   1.06517245610419hypertensionno hypertension\n",
       ":   0.570236102343239avg_glucose_level\n",
       ":   1.00797796298311heart_diseaseno heart disease\n",
       ":   0.31349424550766ever_marriedYes\n",
       ":   0.37771537725968heart_diseaseno heart disease:ever_marriedYes\n",
       ":   1.62349347366509\n",
       "\n"
      ],
      "text/plain": [
       "                                  (Intercept) \n",
       "                                   0.03603803 \n",
       "                                          age \n",
       "                                   1.06517246 \n",
       "                  hypertensionno hypertension \n",
       "                                   0.57023610 \n",
       "                            avg_glucose_level \n",
       "                                   1.00797796 \n",
       "                heart_diseaseno heart disease \n",
       "                                   0.31349425 \n",
       "                              ever_marriedYes \n",
       "                                   0.37771538 \n",
       "heart_diseaseno heart disease:ever_marriedYes \n",
       "                                   1.62349347 "
      ]
     },
     "metadata": {},
     "output_type": "display_data"
    }
   ],
   "source": [
    "modelo_interaccion_heart_casado <- glm(stroke~ age+hypertension+avg_glucose_level+heart_disease*ever_married,\n",
    "data=newdata, family = binomial(link = \"logit\"))\n",
    "summary(modelo_interaccion_heart_casado)\n",
    "exp(coef(modelo_interaccion_heart_casado))  # Razones de ventajas (\"odds ratios\")"
   ]
  },
  {
   "cell_type": "code",
   "execution_count": 42,
   "id": "69c2aa11",
   "metadata": {},
   "outputs": [],
   "source": [
    "prediccion_modelo=function(stroke_balanceado){\n",
    "predicciones <- ifelse(test = stroke_balanceado$fitted.values > 0.5, yes = 1, no = 0)\n",
    "matriz_confusion_balanceado <- table(stroke_balanceado$model$stroke, predicciones,\n",
    "                          dnn = c(\"observaciones\", \"predicciones\"))\n",
    "nivel_b = (matriz_confusion_balanceado[1,1]+matriz_confusion_balanceado[2,2])/sum(matriz_confusion_balanceado)\n",
    "\n",
    "matriz_confusion_balanceado\n",
    "devianza=summary(stroke_balanceado)[[4]]\n",
    "aic=summary(stroke_balanceado)[[5]]\n",
    "tabla=cbind(matriz_confusion_balanceado,nivel_b,devianza,aic)\n",
    "colnames(tabla)=c('0','1','Exactitud','Deviance','AIC')\n",
    "return(tabla)\n",
    "}"
   ]
  },
  {
   "cell_type": "code",
   "execution_count": 43,
   "id": "3ebb19c4",
   "metadata": {
    "scrolled": false
   },
   "outputs": [
    {
     "data": {
      "text/html": [
       "<table class=\"dataframe\">\n",
       "<caption>A matrix: 2 × 5 of type dbl</caption>\n",
       "<thead>\n",
       "\t<tr><th></th><th scope=col>0</th><th scope=col>1</th><th scope=col>Exactitud</th><th scope=col>Deviance</th><th scope=col>AIC</th></tr>\n",
       "</thead>\n",
       "<tbody>\n",
       "\t<tr><th scope=row>0</th><td>354</td><td>146</td><td>0.703</td><td>1174.608</td><td>1202.608</td></tr>\n",
       "\t<tr><th scope=row>1</th><td>151</td><td>349</td><td>0.703</td><td>1174.608</td><td>1202.608</td></tr>\n",
       "</tbody>\n",
       "</table>\n"
      ],
      "text/latex": [
       "A matrix: 2 × 5 of type dbl\n",
       "\\begin{tabular}{r|lllll}\n",
       "  & 0 & 1 & Exactitud & Deviance & AIC\\\\\n",
       "\\hline\n",
       "\t0 & 354 & 146 & 0.703 & 1174.608 & 1202.608\\\\\n",
       "\t1 & 151 & 349 & 0.703 & 1174.608 & 1202.608\\\\\n",
       "\\end{tabular}\n"
      ],
      "text/markdown": [
       "\n",
       "A matrix: 2 × 5 of type dbl\n",
       "\n",
       "| <!--/--> | 0 | 1 | Exactitud | Deviance | AIC |\n",
       "|---|---|---|---|---|---|\n",
       "| 0 | 354 | 146 | 0.703 | 1174.608 | 1202.608 |\n",
       "| 1 | 151 | 349 | 0.703 | 1174.608 | 1202.608 |\n",
       "\n"
      ],
      "text/plain": [
       "  0   1   Exactitud Deviance AIC     \n",
       "0 354 146 0.703     1174.608 1202.608\n",
       "1 151 349 0.703     1174.608 1202.608"
      ]
     },
     "metadata": {},
     "output_type": "display_data"
    },
    {
     "data": {
      "text/html": [
       "<table class=\"dataframe\">\n",
       "<caption>A matrix: 2 × 5 of type dbl</caption>\n",
       "<thead>\n",
       "\t<tr><th></th><th scope=col>0</th><th scope=col>1</th><th scope=col>Exactitud</th><th scope=col>Deviance</th><th scope=col>AIC</th></tr>\n",
       "</thead>\n",
       "<tbody>\n",
       "\t<tr><th scope=row>0</th><td>348</td><td>152</td><td>0.71</td><td>1184.876</td><td>1196.876</td></tr>\n",
       "\t<tr><th scope=row>1</th><td>138</td><td>362</td><td>0.71</td><td>1184.876</td><td>1196.876</td></tr>\n",
       "</tbody>\n",
       "</table>\n"
      ],
      "text/latex": [
       "A matrix: 2 × 5 of type dbl\n",
       "\\begin{tabular}{r|lllll}\n",
       "  & 0 & 1 & Exactitud & Deviance & AIC\\\\\n",
       "\\hline\n",
       "\t0 & 348 & 152 & 0.71 & 1184.876 & 1196.876\\\\\n",
       "\t1 & 138 & 362 & 0.71 & 1184.876 & 1196.876\\\\\n",
       "\\end{tabular}\n"
      ],
      "text/markdown": [
       "\n",
       "A matrix: 2 × 5 of type dbl\n",
       "\n",
       "| <!--/--> | 0 | 1 | Exactitud | Deviance | AIC |\n",
       "|---|---|---|---|---|---|\n",
       "| 0 | 348 | 152 | 0.71 | 1184.876 | 1196.876 |\n",
       "| 1 | 138 | 362 | 0.71 | 1184.876 | 1196.876 |\n",
       "\n"
      ],
      "text/plain": [
       "  0   1   Exactitud Deviance AIC     \n",
       "0 348 152 0.71      1184.876 1196.876\n",
       "1 138 362 0.71      1184.876 1196.876"
      ]
     },
     "metadata": {},
     "output_type": "display_data"
    },
    {
     "data": {
      "text/html": [
       "<table class=\"dataframe\">\n",
       "<caption>A matrix: 2 × 5 of type dbl</caption>\n",
       "<thead>\n",
       "\t<tr><th></th><th scope=col>0</th><th scope=col>1</th><th scope=col>Exactitud</th><th scope=col>Deviance</th><th scope=col>AIC</th></tr>\n",
       "</thead>\n",
       "<tbody>\n",
       "\t<tr><th scope=row>0</th><td>347</td><td>153</td><td>0.708</td><td>1184.283</td><td>1198.283</td></tr>\n",
       "\t<tr><th scope=row>1</th><td>139</td><td>361</td><td>0.708</td><td>1184.283</td><td>1198.283</td></tr>\n",
       "</tbody>\n",
       "</table>\n"
      ],
      "text/latex": [
       "A matrix: 2 × 5 of type dbl\n",
       "\\begin{tabular}{r|lllll}\n",
       "  & 0 & 1 & Exactitud & Deviance & AIC\\\\\n",
       "\\hline\n",
       "\t0 & 347 & 153 & 0.708 & 1184.283 & 1198.283\\\\\n",
       "\t1 & 139 & 361 & 0.708 & 1184.283 & 1198.283\\\\\n",
       "\\end{tabular}\n"
      ],
      "text/markdown": [
       "\n",
       "A matrix: 2 × 5 of type dbl\n",
       "\n",
       "| <!--/--> | 0 | 1 | Exactitud | Deviance | AIC |\n",
       "|---|---|---|---|---|---|\n",
       "| 0 | 347 | 153 | 0.708 | 1184.283 | 1198.283 |\n",
       "| 1 | 139 | 361 | 0.708 | 1184.283 | 1198.283 |\n",
       "\n"
      ],
      "text/plain": [
       "  0   1   Exactitud Deviance AIC     \n",
       "0 347 153 0.708     1184.283 1198.283\n",
       "1 139 361 0.708     1184.283 1198.283"
      ]
     },
     "metadata": {},
     "output_type": "display_data"
    },
    {
     "data": {
      "text/html": [
       "<table class=\"dataframe\">\n",
       "<caption>A matrix: 2 × 5 of type dbl</caption>\n",
       "<thead>\n",
       "\t<tr><th></th><th scope=col>0</th><th scope=col>1</th><th scope=col>Exactitud</th><th scope=col>Deviance</th><th scope=col>AIC</th></tr>\n",
       "</thead>\n",
       "<tbody>\n",
       "\t<tr><th scope=row>0</th><td>349</td><td>151</td><td>0.711</td><td>1184.873</td><td>1198.873</td></tr>\n",
       "\t<tr><th scope=row>1</th><td>138</td><td>362</td><td>0.711</td><td>1184.873</td><td>1198.873</td></tr>\n",
       "</tbody>\n",
       "</table>\n"
      ],
      "text/latex": [
       "A matrix: 2 × 5 of type dbl\n",
       "\\begin{tabular}{r|lllll}\n",
       "  & 0 & 1 & Exactitud & Deviance & AIC\\\\\n",
       "\\hline\n",
       "\t0 & 349 & 151 & 0.711 & 1184.873 & 1198.873\\\\\n",
       "\t1 & 138 & 362 & 0.711 & 1184.873 & 1198.873\\\\\n",
       "\\end{tabular}\n"
      ],
      "text/markdown": [
       "\n",
       "A matrix: 2 × 5 of type dbl\n",
       "\n",
       "| <!--/--> | 0 | 1 | Exactitud | Deviance | AIC |\n",
       "|---|---|---|---|---|---|\n",
       "| 0 | 349 | 151 | 0.711 | 1184.873 | 1198.873 |\n",
       "| 1 | 138 | 362 | 0.711 | 1184.873 | 1198.873 |\n",
       "\n"
      ],
      "text/plain": [
       "  0   1   Exactitud Deviance AIC     \n",
       "0 349 151 0.711     1184.873 1198.873\n",
       "1 138 362 0.711     1184.873 1198.873"
      ]
     },
     "metadata": {},
     "output_type": "display_data"
    },
    {
     "data": {
      "text/html": [
       "<table class=\"dataframe\">\n",
       "<caption>A matrix: 2 × 5 of type dbl</caption>\n",
       "<thead>\n",
       "\t<tr><th></th><th scope=col>0</th><th scope=col>1</th><th scope=col>Exactitud</th><th scope=col>Deviance</th><th scope=col>AIC</th></tr>\n",
       "</thead>\n",
       "<tbody>\n",
       "\t<tr><th scope=row>0</th><td>348</td><td>152</td><td>0.71</td><td>1184.671</td><td>1198.671</td></tr>\n",
       "\t<tr><th scope=row>1</th><td>138</td><td>362</td><td>0.71</td><td>1184.671</td><td>1198.671</td></tr>\n",
       "</tbody>\n",
       "</table>\n"
      ],
      "text/latex": [
       "A matrix: 2 × 5 of type dbl\n",
       "\\begin{tabular}{r|lllll}\n",
       "  & 0 & 1 & Exactitud & Deviance & AIC\\\\\n",
       "\\hline\n",
       "\t0 & 348 & 152 & 0.71 & 1184.671 & 1198.671\\\\\n",
       "\t1 & 138 & 362 & 0.71 & 1184.671 & 1198.671\\\\\n",
       "\\end{tabular}\n"
      ],
      "text/markdown": [
       "\n",
       "A matrix: 2 × 5 of type dbl\n",
       "\n",
       "| <!--/--> | 0 | 1 | Exactitud | Deviance | AIC |\n",
       "|---|---|---|---|---|---|\n",
       "| 0 | 348 | 152 | 0.71 | 1184.671 | 1198.671 |\n",
       "| 1 | 138 | 362 | 0.71 | 1184.671 | 1198.671 |\n",
       "\n"
      ],
      "text/plain": [
       "  0   1   Exactitud Deviance AIC     \n",
       "0 348 152 0.71      1184.671 1198.671\n",
       "1 138 362 0.71      1184.671 1198.671"
      ]
     },
     "metadata": {},
     "output_type": "display_data"
    }
   ],
   "source": [
    "prediccion_modelo(stroke_balanceado_todo)\n",
    "prediccion_modelo(stroke_balanceado_1)\n",
    "prediccion_modelo(modelo_interaccion_Hiper_Casado)\n",
    "prediccion_modelo(modelo_interaccion_Hiper_Glucosa)\n",
    "prediccion_modelo(modelo_interaccion_heart_casado)"
   ]
  },
  {
   "cell_type": "markdown",
   "id": "9e57ba3b",
   "metadata": {},
   "source": [
    "Analisis para los datos del ultimo modelo de muestras balanceadas"
   ]
  },
  {
   "cell_type": "code",
   "execution_count": 44,
   "id": "1ec4f2a2",
   "metadata": {
    "scrolled": true
   },
   "outputs": [
    {
     "data": {
      "text/html": [
       "<table class=\"dataframe\">\n",
       "<caption>A tibble: 2 × 3</caption>\n",
       "<thead>\n",
       "\t<tr><th scope=col>gender</th><th scope=col>n</th><th scope=col>derrames</th></tr>\n",
       "\t<tr><th scope=col>&lt;fct&gt;</th><th scope=col>&lt;int&gt;</th><th scope=col>&lt;int&gt;</th></tr>\n",
       "</thead>\n",
       "<tbody>\n",
       "\t<tr><td>Female</td><td>586</td><td>276</td></tr>\n",
       "\t<tr><td>Male  </td><td>414</td><td>224</td></tr>\n",
       "</tbody>\n",
       "</table>\n"
      ],
      "text/latex": [
       "A tibble: 2 × 3\n",
       "\\begin{tabular}{lll}\n",
       " gender & n & derrames\\\\\n",
       " <fct> & <int> & <int>\\\\\n",
       "\\hline\n",
       "\t Female & 586 & 276\\\\\n",
       "\t Male   & 414 & 224\\\\\n",
       "\\end{tabular}\n"
      ],
      "text/markdown": [
       "\n",
       "A tibble: 2 × 3\n",
       "\n",
       "| gender &lt;fct&gt; | n &lt;int&gt; | derrames &lt;int&gt; |\n",
       "|---|---|---|\n",
       "| Female | 586 | 276 |\n",
       "| Male   | 414 | 224 |\n",
       "\n"
      ],
      "text/plain": [
       "  gender n   derrames\n",
       "1 Female 586 276     \n",
       "2 Male   414 224     "
      ]
     },
     "metadata": {},
     "output_type": "display_data"
    },
    {
     "data": {
      "text/html": [
       "<table class=\"dataframe\">\n",
       "<caption>A tibble: 2 × 3</caption>\n",
       "<thead>\n",
       "\t<tr><th scope=col>hypertension</th><th scope=col>n</th><th scope=col>derrames</th></tr>\n",
       "\t<tr><th scope=col>&lt;fct&gt;</th><th scope=col>&lt;int&gt;</th><th scope=col>&lt;int&gt;</th></tr>\n",
       "</thead>\n",
       "<tbody>\n",
       "\t<tr><td>hypertension   </td><td>243</td><td>157</td></tr>\n",
       "\t<tr><td>no hypertension</td><td>757</td><td>343</td></tr>\n",
       "</tbody>\n",
       "</table>\n"
      ],
      "text/latex": [
       "A tibble: 2 × 3\n",
       "\\begin{tabular}{lll}\n",
       " hypertension & n & derrames\\\\\n",
       " <fct> & <int> & <int>\\\\\n",
       "\\hline\n",
       "\t hypertension    & 243 & 157\\\\\n",
       "\t no hypertension & 757 & 343\\\\\n",
       "\\end{tabular}\n"
      ],
      "text/markdown": [
       "\n",
       "A tibble: 2 × 3\n",
       "\n",
       "| hypertension &lt;fct&gt; | n &lt;int&gt; | derrames &lt;int&gt; |\n",
       "|---|---|---|\n",
       "| hypertension    | 243 | 157 |\n",
       "| no hypertension | 757 | 343 |\n",
       "\n"
      ],
      "text/plain": [
       "  hypertension    n   derrames\n",
       "1 hypertension    243 157     \n",
       "2 no hypertension 757 343     "
      ]
     },
     "metadata": {},
     "output_type": "display_data"
    },
    {
     "data": {
      "text/html": [
       "<table class=\"dataframe\">\n",
       "<caption>A tibble: 2 × 3</caption>\n",
       "<thead>\n",
       "\t<tr><th scope=col>heart_disease</th><th scope=col>n</th><th scope=col>derrames</th></tr>\n",
       "\t<tr><th scope=col>&lt;fct&gt;</th><th scope=col>&lt;int&gt;</th><th scope=col>&lt;int&gt;</th></tr>\n",
       "</thead>\n",
       "<tbody>\n",
       "\t<tr><td>heart disease   </td><td>144</td><td>105</td></tr>\n",
       "\t<tr><td>no heart disease</td><td>856</td><td>395</td></tr>\n",
       "</tbody>\n",
       "</table>\n"
      ],
      "text/latex": [
       "A tibble: 2 × 3\n",
       "\\begin{tabular}{lll}\n",
       " heart\\_disease & n & derrames\\\\\n",
       " <fct> & <int> & <int>\\\\\n",
       "\\hline\n",
       "\t heart disease    & 144 & 105\\\\\n",
       "\t no heart disease & 856 & 395\\\\\n",
       "\\end{tabular}\n"
      ],
      "text/markdown": [
       "\n",
       "A tibble: 2 × 3\n",
       "\n",
       "| heart_disease &lt;fct&gt; | n &lt;int&gt; | derrames &lt;int&gt; |\n",
       "|---|---|---|\n",
       "| heart disease    | 144 | 105 |\n",
       "| no heart disease | 856 | 395 |\n",
       "\n"
      ],
      "text/plain": [
       "  heart_disease    n   derrames\n",
       "1 heart disease    144 105     \n",
       "2 no heart disease 856 395     "
      ]
     },
     "metadata": {},
     "output_type": "display_data"
    },
    {
     "data": {
      "text/html": [
       "<table class=\"dataframe\">\n",
       "<caption>A tibble: 2 × 3</caption>\n",
       "<thead>\n",
       "\t<tr><th scope=col>ever_married</th><th scope=col>n</th><th scope=col>derrames</th></tr>\n",
       "\t<tr><th scope=col>&lt;fct&gt;</th><th scope=col>&lt;int&gt;</th><th scope=col>&lt;int&gt;</th></tr>\n",
       "</thead>\n",
       "<tbody>\n",
       "\t<tr><td>No </td><td> 77</td><td> 47</td></tr>\n",
       "\t<tr><td>Yes</td><td>923</td><td>453</td></tr>\n",
       "</tbody>\n",
       "</table>\n"
      ],
      "text/latex": [
       "A tibble: 2 × 3\n",
       "\\begin{tabular}{lll}\n",
       " ever\\_married & n & derrames\\\\\n",
       " <fct> & <int> & <int>\\\\\n",
       "\\hline\n",
       "\t No  &  77 &  47\\\\\n",
       "\t Yes & 923 & 453\\\\\n",
       "\\end{tabular}\n"
      ],
      "text/markdown": [
       "\n",
       "A tibble: 2 × 3\n",
       "\n",
       "| ever_married &lt;fct&gt; | n &lt;int&gt; | derrames &lt;int&gt; |\n",
       "|---|---|---|\n",
       "| No  |  77 |  47 |\n",
       "| Yes | 923 | 453 |\n",
       "\n"
      ],
      "text/plain": [
       "  ever_married n   derrames\n",
       "1 No            77  47     \n",
       "2 Yes          923 453     "
      ]
     },
     "metadata": {},
     "output_type": "display_data"
    },
    {
     "data": {
      "text/html": [
       "<table class=\"dataframe\">\n",
       "<caption>A tibble: 3 × 3</caption>\n",
       "<thead>\n",
       "\t<tr><th scope=col>work_type</th><th scope=col>n</th><th scope=col>derrames</th></tr>\n",
       "\t<tr><th scope=col>&lt;fct&gt;</th><th scope=col>&lt;int&gt;</th><th scope=col>&lt;int&gt;</th></tr>\n",
       "</thead>\n",
       "<tbody>\n",
       "\t<tr><td>Govt_job     </td><td>141</td><td> 68</td></tr>\n",
       "\t<tr><td>Private      </td><td>586</td><td>293</td></tr>\n",
       "\t<tr><td>Self-employed</td><td>273</td><td>139</td></tr>\n",
       "</tbody>\n",
       "</table>\n"
      ],
      "text/latex": [
       "A tibble: 3 × 3\n",
       "\\begin{tabular}{lll}\n",
       " work\\_type & n & derrames\\\\\n",
       " <fct> & <int> & <int>\\\\\n",
       "\\hline\n",
       "\t Govt\\_job      & 141 &  68\\\\\n",
       "\t Private       & 586 & 293\\\\\n",
       "\t Self-employed & 273 & 139\\\\\n",
       "\\end{tabular}\n"
      ],
      "text/markdown": [
       "\n",
       "A tibble: 3 × 3\n",
       "\n",
       "| work_type &lt;fct&gt; | n &lt;int&gt; | derrames &lt;int&gt; |\n",
       "|---|---|---|\n",
       "| Govt_job      | 141 |  68 |\n",
       "| Private       | 586 | 293 |\n",
       "| Self-employed | 273 | 139 |\n",
       "\n"
      ],
      "text/plain": [
       "  work_type     n   derrames\n",
       "1 Govt_job      141  68     \n",
       "2 Private       586 293     \n",
       "3 Self-employed 273 139     "
      ]
     },
     "metadata": {},
     "output_type": "display_data"
    },
    {
     "data": {
      "text/html": [
       "<table class=\"dataframe\">\n",
       "<caption>A tibble: 2 × 3</caption>\n",
       "<thead>\n",
       "\t<tr><th scope=col>Residence_type</th><th scope=col>n</th><th scope=col>derrames</th></tr>\n",
       "\t<tr><th scope=col>&lt;fct&gt;</th><th scope=col>&lt;int&gt;</th><th scope=col>&lt;int&gt;</th></tr>\n",
       "</thead>\n",
       "<tbody>\n",
       "\t<tr><td>Rural</td><td>509</td><td>262</td></tr>\n",
       "\t<tr><td>Urban</td><td>491</td><td>238</td></tr>\n",
       "</tbody>\n",
       "</table>\n"
      ],
      "text/latex": [
       "A tibble: 2 × 3\n",
       "\\begin{tabular}{lll}\n",
       " Residence\\_type & n & derrames\\\\\n",
       " <fct> & <int> & <int>\\\\\n",
       "\\hline\n",
       "\t Rural & 509 & 262\\\\\n",
       "\t Urban & 491 & 238\\\\\n",
       "\\end{tabular}\n"
      ],
      "text/markdown": [
       "\n",
       "A tibble: 2 × 3\n",
       "\n",
       "| Residence_type &lt;fct&gt; | n &lt;int&gt; | derrames &lt;int&gt; |\n",
       "|---|---|---|\n",
       "| Rural | 509 | 262 |\n",
       "| Urban | 491 | 238 |\n",
       "\n"
      ],
      "text/plain": [
       "  Residence_type n   derrames\n",
       "1 Rural          509 262     \n",
       "2 Urban          491 238     "
      ]
     },
     "metadata": {},
     "output_type": "display_data"
    },
    {
     "data": {
      "text/html": [
       "<table class=\"dataframe\">\n",
       "<caption>A tibble: 4 × 3</caption>\n",
       "<thead>\n",
       "\t<tr><th scope=col>smoking_status</th><th scope=col>n</th><th scope=col>derrames</th></tr>\n",
       "\t<tr><th scope=col>&lt;fct&gt;</th><th scope=col>&lt;int&gt;</th><th scope=col>&lt;int&gt;</th></tr>\n",
       "</thead>\n",
       "<tbody>\n",
       "\t<tr><td>formerly smoked</td><td>284</td><td>148</td></tr>\n",
       "\t<tr><td>never smoked   </td><td>408</td><td>200</td></tr>\n",
       "\t<tr><td>smokes         </td><td>150</td><td> 82</td></tr>\n",
       "\t<tr><td>Unknown        </td><td>158</td><td> 70</td></tr>\n",
       "</tbody>\n",
       "</table>\n"
      ],
      "text/latex": [
       "A tibble: 4 × 3\n",
       "\\begin{tabular}{lll}\n",
       " smoking\\_status & n & derrames\\\\\n",
       " <fct> & <int> & <int>\\\\\n",
       "\\hline\n",
       "\t formerly smoked & 284 & 148\\\\\n",
       "\t never smoked    & 408 & 200\\\\\n",
       "\t smokes          & 150 &  82\\\\\n",
       "\t Unknown         & 158 &  70\\\\\n",
       "\\end{tabular}\n"
      ],
      "text/markdown": [
       "\n",
       "A tibble: 4 × 3\n",
       "\n",
       "| smoking_status &lt;fct&gt; | n &lt;int&gt; | derrames &lt;int&gt; |\n",
       "|---|---|---|\n",
       "| formerly smoked | 284 | 148 |\n",
       "| never smoked    | 408 | 200 |\n",
       "| smokes          | 150 |  82 |\n",
       "| Unknown         | 158 |  70 |\n",
       "\n"
      ],
      "text/plain": [
       "  smoking_status  n   derrames\n",
       "1 formerly smoked 284 148     \n",
       "2 never smoked    408 200     \n",
       "3 smokes          150  82     \n",
       "4 Unknown         158  70     "
      ]
     },
     "metadata": {},
     "output_type": "display_data"
    },
    {
     "data": {
      "text/html": [
       "<table class=\"dataframe\">\n",
       "<caption>A tibble: 2 × 3</caption>\n",
       "<thead>\n",
       "\t<tr><th scope=col>stroke</th><th scope=col>n</th><th scope=col>derrames</th></tr>\n",
       "\t<tr><th scope=col>&lt;fct&gt;</th><th scope=col>&lt;int&gt;</th><th scope=col>&lt;int&gt;</th></tr>\n",
       "</thead>\n",
       "<tbody>\n",
       "\t<tr><td>0</td><td>500</td><td>  0</td></tr>\n",
       "\t<tr><td>1</td><td>500</td><td>500</td></tr>\n",
       "</tbody>\n",
       "</table>\n"
      ],
      "text/latex": [
       "A tibble: 2 × 3\n",
       "\\begin{tabular}{lll}\n",
       " stroke & n & derrames\\\\\n",
       " <fct> & <int> & <int>\\\\\n",
       "\\hline\n",
       "\t 0 & 500 &   0\\\\\n",
       "\t 1 & 500 & 500\\\\\n",
       "\\end{tabular}\n"
      ],
      "text/markdown": [
       "\n",
       "A tibble: 2 × 3\n",
       "\n",
       "| stroke &lt;fct&gt; | n &lt;int&gt; | derrames &lt;int&gt; |\n",
       "|---|---|---|\n",
       "| 0 | 500 |   0 |\n",
       "| 1 | 500 | 500 |\n",
       "\n"
      ],
      "text/plain": [
       "  stroke n   derrames\n",
       "1 0      500   0     \n",
       "2 1      500 500     "
      ]
     },
     "metadata": {},
     "output_type": "display_data"
    },
    {
     "data": {
      "text/html": [
       "<table class=\"dataframe\">\n",
       "<caption>A tibble: 2 × 3</caption>\n",
       "<thead>\n",
       "\t<tr><th scope=col>stroke_t</th><th scope=col>n</th><th scope=col>derrames</th></tr>\n",
       "\t<tr><th scope=col>&lt;fct&gt;</th><th scope=col>&lt;int&gt;</th><th scope=col>&lt;int&gt;</th></tr>\n",
       "</thead>\n",
       "<tbody>\n",
       "\t<tr><td>no stroke</td><td>500</td><td>  0</td></tr>\n",
       "\t<tr><td>stroke   </td><td>500</td><td>500</td></tr>\n",
       "</tbody>\n",
       "</table>\n"
      ],
      "text/latex": [
       "A tibble: 2 × 3\n",
       "\\begin{tabular}{lll}\n",
       " stroke\\_t & n & derrames\\\\\n",
       " <fct> & <int> & <int>\\\\\n",
       "\\hline\n",
       "\t no stroke & 500 &   0\\\\\n",
       "\t stroke    & 500 & 500\\\\\n",
       "\\end{tabular}\n"
      ],
      "text/markdown": [
       "\n",
       "A tibble: 2 × 3\n",
       "\n",
       "| stroke_t &lt;fct&gt; | n &lt;int&gt; | derrames &lt;int&gt; |\n",
       "|---|---|---|\n",
       "| no stroke | 500 |   0 |\n",
       "| stroke    | 500 | 500 |\n",
       "\n"
      ],
      "text/plain": [
       "  stroke_t  n   derrames\n",
       "1 no stroke 500   0     \n",
       "2 stroke    500 500     "
      ]
     },
     "metadata": {},
     "output_type": "display_data"
    }
   ],
   "source": [
    "for (col_name in colnames(newdata[sapply(newdata, function(x) !(is.numeric(x)))])){\n",
    "    output <- newdata %>%\n",
    "        group_by(!!sym(col_name)) %>%\n",
    "        summarise(n = n(),\n",
    "            derrames = sum(stroke == 1)\n",
    "        )\n",
    "    View(output)\n",
    "}"
   ]
  },
  {
   "cell_type": "code",
   "execution_count": 45,
   "id": "24a0fa32",
   "metadata": {},
   "outputs": [
    {
     "data": {
      "image/png": "[encoded data removed]",
      "text/plain": [
       "plot without title"
      ]
     },
     "metadata": {
      "image/png": {
       "height": 420,
       "width": 420
      }
     },
     "output_type": "display_data"
    }
   ],
   "source": [
    "ggplot(newdata, aes(x = age)) + \n",
    "    geom_histogram(fill = '#F8766D', col = 'black',bins = max(data$age)) +   \n",
    "labs(title = \"Histograma de la edad\",\n",
    "       x=\"Edad\",\n",
    "       y=\"Frecuencia\")"
   ]
  },
  {
   "cell_type": "code",
   "execution_count": 46,
   "id": "06e8d100",
   "metadata": {},
   "outputs": [
    {
     "data": {
      "image/png": "[encoded data removed]",
      "text/plain": [
       "plot without title"
      ]
     },
     "metadata": {
      "image/png": {
       "height": 420,
       "width": 420
      }
     },
     "output_type": "display_data"
    }
   ],
   "source": [
    "ggplot(newdata, aes(x = age, fill = stroke_t))+ geom_density(alpha = 0.8) + \n",
    "  labs(title = \"Densidad empirica del derrame por edad\",\n",
    "       x=\"Edad\",\n",
    "       y=\"Densidad\") + scale_fill_discrete(name = \"Derrame\", labels = c(\"No\", \"Si\"))"
   ]
  },
  {
   "cell_type": "code",
   "execution_count": 47,
   "id": "21ef98b1",
   "metadata": {},
   "outputs": [
    {
     "data": {
      "image/png": "[encoded data removed]",
      "text/plain": [
       "plot without title"
      ]
     },
     "metadata": {
      "image/png": {
       "height": 420,
       "width": 420
      }
     },
     "output_type": "display_data"
    }
   ],
   "source": [
    "ggplot(data = newdata, aes(x=gender,fill=stroke))+geom_bar()+\n",
    "  labs(title = \"Número de personas según sexo\",\n",
    "       x=\"\",\n",
    "       y=\"Cantidad de personas\") + scale_fill_discrete(name = \"Derrame\", labels = c(\"No\", \"Si\")) + \n",
    "       geom_text(stat='count', aes(label=..count..), vjust=-1)"
   ]
  },
  {
   "cell_type": "code",
   "execution_count": 48,
   "id": "ddeac6f9",
   "metadata": {},
   "outputs": [
    {
     "data": {
      "image/png": "[encoded data removed]",
      "text/plain": [
       "plot without title"
      ]
     },
     "metadata": {
      "image/png": {
       "height": 420,
       "width": 420
      }
     },
     "output_type": "display_data"
    }
   ],
   "source": [
    "ggplot(data = newdata, aes(x=heart_disease,fill=stroke))+geom_bar()+\n",
    "  labs(title = \"Número de personas con enfermedad del corazón\",\n",
    "       x=\"\",\n",
    "       y=\"Cantidad de personas\") + scale_fill_discrete(name = \"Derrame\", labels = c(\"No\", \"Si\")) + \n",
    "       geom_text(stat='count', aes(label=..count..), vjust=-1)"
   ]
  },
  {
   "cell_type": "code",
   "execution_count": 49,
   "id": "04d6cbf5",
   "metadata": {},
   "outputs": [
    {
     "data": {
      "image/png": "[encoded data removed]",
      "text/plain": [
       "plot without title"
      ]
     },
     "metadata": {
      "image/png": {
       "height": 420,
       "width": 420
      }
     },
     "output_type": "display_data"
    }
   ],
   "source": [
    "ggplot(data = newdata, aes(x=hypertension,fill=stroke))+geom_bar()+\n",
    "  labs(title = \"Número de personas con hipertensio\",\n",
    "       x=\"\",\n",
    "       y=\"Cantidad de personas\") + scale_fill_discrete(name = \"Derrame\", labels = c(\"No\", \"Si\")) + \n",
    "       geom_text(stat='count', aes(label=..count..), vjust=-1)"
   ]
  },
  {
   "cell_type": "code",
   "execution_count": 50,
   "id": "d71dcee7",
   "metadata": {},
   "outputs": [
    {
     "data": {
      "image/png": "[encoded data removed]",
      "text/plain": [
       "plot without title"
      ]
     },
     "metadata": {
      "image/png": {
       "height": 420,
       "width": 420
      }
     },
     "output_type": "display_data"
    }
   ],
   "source": [
    "ggplot(data = newdata, aes(x=ever_married,fill=stroke))+geom_bar() + \n",
    "  labs(title = \"¿Ha estado casado alguna vez?\",\n",
    "       x=\"\",\n",
    "       y=\"Cantidad de personas\") + scale_fill_discrete(name = \"Derrame\", labels = c(\"No\", \"Si\")) + \n",
    "       geom_text(stat='count', aes(label=..count..), vjust=-1)"
   ]
  },
  {
   "cell_type": "code",
   "execution_count": 51,
   "id": "fb5a4777",
   "metadata": {},
   "outputs": [
    {
     "data": {
      "image/png": "[encoded data removed]",
      "text/plain": [
       "plot without title"
      ]
     },
     "metadata": {
      "image/png": {
       "height": 420,
       "width": 420
      }
     },
     "output_type": "display_data"
    }
   ],
   "source": [
    "ggplot(newdata, aes(x = avg_glucose_level)) + geom_histogram(fill = '#C77CFF', col = 'black',bins = max(data$avg_glucose_level) ) +   \n",
    "labs(title = \"Histograma del promedio de glucosa\",\n",
    "       x=\"Glucosa\",\n",
    "       y=\"Individuos\")"
   ]
  },
  {
   "cell_type": "code",
   "execution_count": 52,
   "id": "3a5b2adb",
   "metadata": {},
   "outputs": [],
   "source": [
    "write.table(data,\"Stroke_filtrado.txt\",row.names = FALSE,col.names = TRUE,sep = ',')"
   ]
  },
  {
   "cell_type": "code",
   "execution_count": 53,
   "id": "71c8fa43",
   "metadata": {},
   "outputs": [],
   "source": [
    "delete<-c(254,288,389,447,553,736,765,801,972,992,912,854)"
   ]
  },
  {
   "cell_type": "code",
   "execution_count": 54,
   "id": "4e1cbcb9",
   "metadata": {},
   "outputs": [],
   "source": [
    "newdata1<-newdata\n",
    "newdata1<-newdata[-delete,]\n",
    "newdata1<-newdata1[-delete,]"
   ]
  },
  {
   "cell_type": "code",
   "execution_count": 55,
   "id": "b19d27eb",
   "metadata": {},
   "outputs": [
    {
     "data": {
      "text/plain": [
       "\n",
       "Call:\n",
       "glm(formula = stroke ~ age + hypertension + heart_disease + ever_married + \n",
       "    avg_glucose_level, family = binomial(link = \"logit\"), data = newdata1)\n",
       "\n",
       "Deviance Residuals: \n",
       "    Min       1Q   Median       3Q      Max  \n",
       "-2.1698  -0.9235   0.2928   0.9424   1.9920  \n",
       "\n",
       "Coefficients:\n",
       "                               Estimate Std. Error z value Pr(>|z|)    \n",
       "(Intercept)                   -3.980534   0.677971  -5.871 4.33e-09 ***\n",
       "age                            0.067704   0.007643   8.859  < 2e-16 ***\n",
       "hypertensionno hypertension   -0.619899   0.173979  -3.563 0.000367 ***\n",
       "heart_diseaseno heart disease -0.978546   0.232287  -4.213 2.52e-05 ***\n",
       "ever_marriedYes               -0.438288   0.287595  -1.524 0.127515    \n",
       "avg_glucose_level              0.009239   0.001303   7.088 1.36e-12 ***\n",
       "---\n",
       "Signif. codes:  0 '***' 0.001 '**' 0.01 '*' 0.05 '.' 0.1 ' ' 1\n",
       "\n",
       "(Dispersion parameter for binomial family taken to be 1)\n",
       "\n",
       "    Null deviance: 1354.4  on 976  degrees of freedom\n",
       "Residual deviance: 1121.3  on 971  degrees of freedom\n",
       "AIC: 1133.3\n",
       "\n",
       "Number of Fisher Scoring iterations: 4\n"
      ]
     },
     "metadata": {},
     "output_type": "display_data"
    }
   ],
   "source": [
    "stroke_balanceado_2 <- glm(stroke~ age+hypertension+heart_disease+ever_married+avg_glucose_level,\n",
    "data=newdata1, family = binomial(link = \"logit\"))\n",
    "summary(stroke_balanceado_2)"
   ]
  },
  {
   "cell_type": "code",
   "execution_count": 56,
   "id": "d8e2da29",
   "metadata": {},
   "outputs": [
    {
     "data": {
      "text/plain": [
       "             predicciones\n",
       "observaciones   0   1\n",
       "            0 343 142\n",
       "            1 136 356"
      ]
     },
     "metadata": {},
     "output_type": "display_data"
    }
   ],
   "source": [
    "predicciones <- ifelse(test = stroke_balanceado_2$fitted.values > 0.5, yes = 1, no = 0)\n",
    "matriz_confusion_balanceado <- table(stroke_balanceado_2$model$stroke, predicciones,\n",
    "                          dnn = c(\"observaciones\", \"predicciones\"))\n",
    "matriz_confusion_balanceado"
   ]
  },
  {
   "cell_type": "code",
   "execution_count": 69,
   "id": "e390668f",
   "metadata": {},
   "outputs": [
    {
     "data": {
      "text/html": [
       "0.715455475946776"
      ],
      "text/latex": [
       "0.715455475946776"
      ],
      "text/markdown": [
       "0.715455475946776"
      ],
      "text/plain": [
       "[1] 0.7154555"
      ]
     },
     "metadata": {},
     "output_type": "display_data"
    }
   ],
   "source": [
    "(matriz_confusion_balanceado[1]+matriz_confusion_balanceado[4])/sum(matriz_confusion_balanceado)"
   ]
  },
  {
   "cell_type": "code",
   "execution_count": 57,
   "id": "7cbbc2ad",
   "metadata": {},
   "outputs": [
    {
     "data": {
      "text/html": [
       "<style>\n",
       ".dl-inline {width: auto; margin:0; padding: 0}\n",
       ".dl-inline>dt, .dl-inline>dd {float: none; width: auto; display: inline-block}\n",
       ".dl-inline>dt::after {content: \":\\0020\"; padding-right: .5ex}\n",
       ".dl-inline>dt:not(:first-of-type) {padding-left: .5ex}\n",
       "</style><dl class=dl-inline><dt>(Intercept)</dt><dd>0.0186756681705449</dd><dt>age</dt><dd>1.07004857458366</dd><dt>hypertensionno hypertension</dt><dd>0.537998553184932</dd><dt>heart_diseaseno heart disease</dt><dd>0.375857041353516</dd><dt>ever_marriedYes</dt><dd>0.645140243731463</dd><dt>avg_glucose_level</dt><dd>1.00928163242572</dd></dl>\n"
      ],
      "text/latex": [
       "\\begin{description*}\n",
       "\\item[(Intercept)] 0.0186756681705449\n",
       "\\item[age] 1.07004857458366\n",
       "\\item[hypertensionno hypertension] 0.537998553184932\n",
       "\\item[heart\\textbackslash{}\\_diseaseno heart disease] 0.375857041353516\n",
       "\\item[ever\\textbackslash{}\\_marriedYes] 0.645140243731463\n",
       "\\item[avg\\textbackslash{}\\_glucose\\textbackslash{}\\_level] 1.00928163242572\n",
       "\\end{description*}\n"
      ],
      "text/markdown": [
       "(Intercept)\n",
       ":   0.0186756681705449age\n",
       ":   1.07004857458366hypertensionno hypertension\n",
       ":   0.537998553184932heart_diseaseno heart disease\n",
       ":   0.375857041353516ever_marriedYes\n",
       ":   0.645140243731463avg_glucose_level\n",
       ":   1.00928163242572\n",
       "\n"
      ],
      "text/plain": [
       "                  (Intercept)                           age \n",
       "                   0.01867567                    1.07004857 \n",
       "  hypertensionno hypertension heart_diseaseno heart disease \n",
       "                   0.53799855                    0.37585704 \n",
       "              ever_marriedYes             avg_glucose_level \n",
       "                   0.64514024                    1.00928163 "
      ]
     },
     "metadata": {},
     "output_type": "display_data"
    }
   ],
   "source": [
    "exp(coef(stroke_balanceado_2))"
   ]
  },
  {
   "cell_type": "code",
   "execution_count": 58,
   "id": "a7e7f543",
   "metadata": {},
   "outputs": [
    {
     "data": {
      "image/png": "[encoded data removed]",
      "text/plain": [
       "plot without title"
      ]
     },
     "metadata": {
      "image/png": {
       "height": 420,
       "width": 420
      }
     },
     "output_type": "display_data"
    },
    {
     "data": {
      "image/png": "[encoded data removed]",
      "text/plain": [
       "plot without title"
      ]
     },
     "metadata": {
      "image/png": {
       "height": 420,
       "width": 420
      }
     },
     "output_type": "display_data"
    },
    {
     "data": {
      "image/png": "[encoded data removed]",
      "text/plain": [
       "plot without title"
      ]
     },
     "metadata": {
      "image/png": {
       "height": 420,
       "width": 420
      }
     },
     "output_type": "display_data"
    },
    {
     "data": {
      "image/png": "[encoded data removed]",
      "text/plain": [
       "plot without title"
      ]
     },
     "metadata": {
      "image/png": {
       "height": 420,
       "width": 420
      }
     },
     "output_type": "display_data"
    }
   ],
   "source": [
    "par(mfrow=c(2,2))\n",
    "plot(effect(\"age\",stroke_balanceado_1),ylab=\"Prob(stroke)\")\n",
    "plot(effect(\"hypertension\",stroke_balanceado_1),ylab=\"Prob(stroke)\")\n",
    "plot(effect(\"heart_disease\",stroke_balanceado_1),ylab=\"Prob(stroke)\")\n",
    "plot(effect(\"avg_glucose_level\",stroke_balanceado_1),ylab=\"Prob(stroke)\")\n"
   ]
  },
  {
   "cell_type": "code",
   "execution_count": 59,
   "id": "53c6c956",
   "metadata": {},
   "outputs": [
    {
     "data": {
      "text/html": [
       "0"
      ],
      "text/latex": [
       "0"
      ],
      "text/markdown": [
       "0"
      ],
      "text/plain": [
       "[1] 0"
      ]
     },
     "metadata": {},
     "output_type": "display_data"
    }
   ],
   "source": [
    "estadistico <- sum(residuals(stroke_balanceado_2,type=\"pearson\")^2)\n",
    "p <- 1 - pchisq(estadistico,1)\n",
    "p"
   ]
  },
  {
   "cell_type": "code",
   "execution_count": 61,
   "id": "31c4a680",
   "metadata": {},
   "outputs": [
    {
     "data": {
      "text/html": [
       "0.172100533089751"
      ],
      "text/latex": [
       "0.172100533089751"
      ],
      "text/markdown": [
       "0.172100533089751"
      ],
      "text/plain": [
       "[1] 0.1721005"
      ]
     },
     "metadata": {},
     "output_type": "display_data"
    }
   ],
   "source": [
    "pR2 = 1 - stroke_balanceado_2$deviance / stroke_balanceado_2$null.deviance\n",
    "pR2"
   ]
  },
  {
   "cell_type": "code",
   "execution_count": 63,
   "id": "df85bc06",
   "metadata": {},
   "outputs": [
    {
     "name": "stderr",
     "output_type": "stream",
     "text": [
      "Waiting for profiling to be done...\n",
      "\n"
     ]
    },
    {
     "data": {
      "text/html": [
       "<table class=\"dataframe\">\n",
       "<caption>A matrix: 6 × 2 of type dbl</caption>\n",
       "<thead>\n",
       "\t<tr><th></th><th scope=col>2.5 %</th><th scope=col>97.5 %</th></tr>\n",
       "</thead>\n",
       "<tbody>\n",
       "\t<tr><th scope=row>(Intercept)</th><td>-5.320492914</td><td>-2.66023208</td></tr>\n",
       "\t<tr><th scope=row>age</th><td> 0.052880024</td><td> 0.08286034</td></tr>\n",
       "\t<tr><th scope=row>hypertensionno hypertension</th><td>-0.963392729</td><td>-0.28069175</td></tr>\n",
       "\t<tr><th scope=row>heart_diseaseno heart disease</th><td>-1.446130288</td><td>-0.53300178</td></tr>\n",
       "\t<tr><th scope=row>ever_marriedYes</th><td>-1.008280562</td><td> 0.12252081</td></tr>\n",
       "\t<tr><th scope=row>avg_glucose_level</th><td> 0.006711155</td><td> 0.01182545</td></tr>\n",
       "</tbody>\n",
       "</table>\n"
      ],
      "text/latex": [
       "A matrix: 6 × 2 of type dbl\n",
       "\\begin{tabular}{r|ll}\n",
       "  & 2.5 \\% & 97.5 \\%\\\\\n",
       "\\hline\n",
       "\t(Intercept) & -5.320492914 & -2.66023208\\\\\n",
       "\tage &  0.052880024 &  0.08286034\\\\\n",
       "\thypertensionno hypertension & -0.963392729 & -0.28069175\\\\\n",
       "\theart\\_diseaseno heart disease & -1.446130288 & -0.53300178\\\\\n",
       "\tever\\_marriedYes & -1.008280562 &  0.12252081\\\\\n",
       "\tavg\\_glucose\\_level &  0.006711155 &  0.01182545\\\\\n",
       "\\end{tabular}\n"
      ],
      "text/markdown": [
       "\n",
       "A matrix: 6 × 2 of type dbl\n",
       "\n",
       "| <!--/--> | 2.5 % | 97.5 % |\n",
       "|---|---|---|\n",
       "| (Intercept) | -5.320492914 | -2.66023208 |\n",
       "| age |  0.052880024 |  0.08286034 |\n",
       "| hypertensionno hypertension | -0.963392729 | -0.28069175 |\n",
       "| heart_diseaseno heart disease | -1.446130288 | -0.53300178 |\n",
       "| ever_marriedYes | -1.008280562 |  0.12252081 |\n",
       "| avg_glucose_level |  0.006711155 |  0.01182545 |\n",
       "\n"
      ],
      "text/plain": [
       "                              2.5 %        97.5 %     \n",
       "(Intercept)                   -5.320492914 -2.66023208\n",
       "age                            0.052880024  0.08286034\n",
       "hypertensionno hypertension   -0.963392729 -0.28069175\n",
       "heart_diseaseno heart disease -1.446130288 -0.53300178\n",
       "ever_marriedYes               -1.008280562  0.12252081\n",
       "avg_glucose_level              0.006711155  0.01182545"
      ]
     },
     "metadata": {},
     "output_type": "display_data"
    }
   ],
   "source": [
    "confint(stroke_balanceado_2)\n",
    "\n"
   ]
  },
  {
   "cell_type": "code",
   "execution_count": 64,
   "id": "baa22e01",
   "metadata": {},
   "outputs": [
    {
     "data": {
      "image/png": "[encoded data removed]",
      "text/plain": [
       "plot without title"
      ]
     },
     "metadata": {
      "image/png": {
       "height": 420,
       "width": 420
      }
     },
     "output_type": "display_data"
    }
   ],
   "source": [
    "ajustado<-predict(stroke_balanceado_2,type=\"response\")\n",
    "plot(newdata1$age,ajustado)"
   ]
  },
  {
   "cell_type": "code",
   "execution_count": null,
   "id": "4f51c8b1",
   "metadata": {},
   "outputs": [],
   "source": [
    "\n",
    "# Código\n",
    "ROC( form=stroke~ age+hypertension+heart_disease+ever_married+avg_glucose_level,\n",
    "data=newdata1,plot=\"ROC\")\n"
   ]
  },
  {
   "cell_type": "code",
   "execution_count": null,
   "id": "2d7ae4a2",
   "metadata": {},
   "outputs": [],
   "source": [
    "modelo_1=gam(stroke~ age+hypertension+heart_disease+ever_married+avg_glucose_level,\n",
    "data=newdata1,family=binomial,method=\"REML\")\n",
    "plot(modelo_1, all.terms = TRUE)"
   ]
  },
  {
   "cell_type": "code",
   "execution_count": null,
   "id": "43674b6e",
   "metadata": {},
   "outputs": [],
   "source": [
    "plot(stroke_balanceado_2)"
   ]
  }
 ],
 "metadata": {
  "kernelspec": {
   "display_name": "R",
   "language": "R",
   "name": "ir"
  },
  "language_info": {
   "codemirror_mode": "r",
   "file_extension": ".r",
   "mimetype": "text/x-r-source",
   "name": "R",
   "pygments_lexer": "r",
   "version": "3.6.1"
  }
 },
 "nbformat": 4,
 "nbformat_minor": 5
}
